{
 "cells": [
  {
   "cell_type": "code",
   "execution_count": 140,
   "metadata": {
    "_cell_guid": "b1076dfc-b9ad-4769-8c92-a6c4dae69d19",
    "_uuid": "8f2839f25d086af736a60e9eeb907d3b93b6e0e5",
    "colab": {},
    "colab_type": "code",
    "id": "U2D2gTdJVp90"
   },
   "outputs": [],
   "source": [
    "import numpy as np\n",
    "import pandas as pd\n",
    "import seaborn as sns\n",
    "import matplotlib.pyplot as plt\n",
    "from collections import Counter\n",
    "import collections\n",
    "from itertools import combinations"
   ]
  },
  {
   "cell_type": "code",
   "execution_count": 141,
   "metadata": {
    "_cell_guid": "79c7e3d0-c299-4dcb-8224-4455121ee9b0",
    "_uuid": "d629ff2d2480ee46fbb7e2d37f6b5fab8052498a",
    "colab": {},
    "colab_type": "code",
    "id": "oyGfxL3eVp9-"
   },
   "outputs": [
    {
     "data": {
      "text/html": [
       "<div>\n",
       "<style scoped>\n",
       "    .dataframe tbody tr th:only-of-type {\n",
       "        vertical-align: middle;\n",
       "    }\n",
       "\n",
       "    .dataframe tbody tr th {\n",
       "        vertical-align: top;\n",
       "    }\n",
       "\n",
       "    .dataframe thead th {\n",
       "        text-align: right;\n",
       "    }\n",
       "</style>\n",
       "<table border=\"1\" class=\"dataframe\">\n",
       "  <thead>\n",
       "    <tr style=\"text-align: right;\">\n",
       "      <th></th>\n",
       "      <th>imdb_id</th>\n",
       "      <th>budget</th>\n",
       "      <th>revenue</th>\n",
       "      <th>original_title</th>\n",
       "      <th>cast</th>\n",
       "      <th>director</th>\n",
       "      <th>tagline</th>\n",
       "      <th>overview</th>\n",
       "      <th>runtime</th>\n",
       "      <th>genres</th>\n",
       "      <th>production_companies</th>\n",
       "      <th>release_date</th>\n",
       "      <th>vote_average</th>\n",
       "      <th>release_year</th>\n",
       "    </tr>\n",
       "  </thead>\n",
       "  <tbody>\n",
       "    <tr>\n",
       "      <th>1307</th>\n",
       "      <td>tt2431286</td>\n",
       "      <td>12000000</td>\n",
       "      <td>100129872</td>\n",
       "      <td>Philomena</td>\n",
       "      <td>Judi Dench|Steve Coogan|Sophie Kennedy Clark|M...</td>\n",
       "      <td>Stephen Frears</td>\n",
       "      <td>These two unlikely companions are on a journey...</td>\n",
       "      <td>A woman searches for her adult son, who was ta...</td>\n",
       "      <td>98</td>\n",
       "      <td>Drama</td>\n",
       "      <td>BBC Films|The Weinstein Company|Baby Cow Produ...</td>\n",
       "      <td>11/1/2013</td>\n",
       "      <td>7.4</td>\n",
       "      <td>2013</td>\n",
       "    </tr>\n",
       "    <tr>\n",
       "      <th>670</th>\n",
       "      <td>tt0451079</td>\n",
       "      <td>85000000</td>\n",
       "      <td>297138014</td>\n",
       "      <td>Horton Hears a Who!</td>\n",
       "      <td>Jim Carrey|Steve Carell|Carol Burnett|Seth Rog...</td>\n",
       "      <td>Jimmy Hayward|Steve Martino</td>\n",
       "      <td>A persons a person no matter how small!</td>\n",
       "      <td>One day, Horton the elephant hears a cry from ...</td>\n",
       "      <td>88</td>\n",
       "      <td>Animation|Comedy|Family|Adventure|Fantasy</td>\n",
       "      <td>Twentieth Century Fox Film Corporation|Blue Sk...</td>\n",
       "      <td>3/3/2008</td>\n",
       "      <td>6.2</td>\n",
       "      <td>2008</td>\n",
       "    </tr>\n",
       "    <tr>\n",
       "      <th>1075</th>\n",
       "      <td>tt1925431</td>\n",
       "      <td>20000000</td>\n",
       "      <td>4636169</td>\n",
       "      <td>Fire with Fire</td>\n",
       "      <td>Bruce Willis|Josh Duhamel|Rosario Dawson|Vince...</td>\n",
       "      <td>David Barrett</td>\n",
       "      <td>Revenge has its own set of rules.</td>\n",
       "      <td>A fireman takes an unexpected course of action...</td>\n",
       "      <td>97</td>\n",
       "      <td>Action|Crime|Drama|Thriller</td>\n",
       "      <td>Industry Entertainment|Grindstone Entertainmen...</td>\n",
       "      <td>8/31/2012</td>\n",
       "      <td>5.7</td>\n",
       "      <td>2012</td>\n",
       "    </tr>\n",
       "    <tr>\n",
       "      <th>498</th>\n",
       "      <td>tt0166924</td>\n",
       "      <td>15000000</td>\n",
       "      <td>20117339</td>\n",
       "      <td>Mulholland Drive</td>\n",
       "      <td>Naomi Watts|Laura Harring|Ann Miller|Dan Heday...</td>\n",
       "      <td>David Lynch</td>\n",
       "      <td>An actress longing to be a star. A woman searc...</td>\n",
       "      <td>After a car wreck on the winding Mulholland Dr...</td>\n",
       "      <td>147</td>\n",
       "      <td>Thriller|Drama|Mystery</td>\n",
       "      <td>Asymmetrical Productions|Les Films Alain Sarde...</td>\n",
       "      <td>5/16/2001</td>\n",
       "      <td>7.4</td>\n",
       "      <td>2001</td>\n",
       "    </tr>\n",
       "    <tr>\n",
       "      <th>1162</th>\n",
       "      <td>tt0251736</td>\n",
       "      <td>7000000</td>\n",
       "      <td>16829545</td>\n",
       "      <td>House of 1000 Corpses</td>\n",
       "      <td>Sid Haig|Bill Moseley|Sheri Moon Zombie|Karen ...</td>\n",
       "      <td>Rob Zombie</td>\n",
       "      <td>You'll never get out alive.</td>\n",
       "      <td>Two teenage couples traveling across the backw...</td>\n",
       "      <td>89</td>\n",
       "      <td>Horror</td>\n",
       "      <td>Universal Pictures|Spectacle Entertainment Group</td>\n",
       "      <td>4/11/2003</td>\n",
       "      <td>5.8</td>\n",
       "      <td>2003</td>\n",
       "    </tr>\n",
       "  </tbody>\n",
       "</table>\n",
       "</div>"
      ],
      "text/plain": [
       "        imdb_id    budget    revenue         original_title  \\\n",
       "1307  tt2431286  12000000  100129872              Philomena   \n",
       "670   tt0451079  85000000  297138014    Horton Hears a Who!   \n",
       "1075  tt1925431  20000000    4636169         Fire with Fire   \n",
       "498   tt0166924  15000000   20117339       Mulholland Drive   \n",
       "1162  tt0251736   7000000   16829545  House of 1000 Corpses   \n",
       "\n",
       "                                                   cast  \\\n",
       "1307  Judi Dench|Steve Coogan|Sophie Kennedy Clark|M...   \n",
       "670   Jim Carrey|Steve Carell|Carol Burnett|Seth Rog...   \n",
       "1075  Bruce Willis|Josh Duhamel|Rosario Dawson|Vince...   \n",
       "498   Naomi Watts|Laura Harring|Ann Miller|Dan Heday...   \n",
       "1162  Sid Haig|Bill Moseley|Sheri Moon Zombie|Karen ...   \n",
       "\n",
       "                         director  \\\n",
       "1307               Stephen Frears   \n",
       "670   Jimmy Hayward|Steve Martino   \n",
       "1075                David Barrett   \n",
       "498                   David Lynch   \n",
       "1162                   Rob Zombie   \n",
       "\n",
       "                                                tagline  \\\n",
       "1307  These two unlikely companions are on a journey...   \n",
       "670             A persons a person no matter how small!   \n",
       "1075                  Revenge has its own set of rules.   \n",
       "498   An actress longing to be a star. A woman searc...   \n",
       "1162                        You'll never get out alive.   \n",
       "\n",
       "                                               overview  runtime  \\\n",
       "1307  A woman searches for her adult son, who was ta...       98   \n",
       "670   One day, Horton the elephant hears a cry from ...       88   \n",
       "1075  A fireman takes an unexpected course of action...       97   \n",
       "498   After a car wreck on the winding Mulholland Dr...      147   \n",
       "1162  Two teenage couples traveling across the backw...       89   \n",
       "\n",
       "                                         genres  \\\n",
       "1307                                      Drama   \n",
       "670   Animation|Comedy|Family|Adventure|Fantasy   \n",
       "1075                Action|Crime|Drama|Thriller   \n",
       "498                      Thriller|Drama|Mystery   \n",
       "1162                                     Horror   \n",
       "\n",
       "                                   production_companies release_date  \\\n",
       "1307  BBC Films|The Weinstein Company|Baby Cow Produ...    11/1/2013   \n",
       "670   Twentieth Century Fox Film Corporation|Blue Sk...     3/3/2008   \n",
       "1075  Industry Entertainment|Grindstone Entertainmen...    8/31/2012   \n",
       "498   Asymmetrical Productions|Les Films Alain Sarde...    5/16/2001   \n",
       "1162   Universal Pictures|Spectacle Entertainment Group    4/11/2003   \n",
       "\n",
       "      vote_average  release_year  \n",
       "1307           7.4          2013  \n",
       "670            6.2          2008  \n",
       "1075           5.7          2012  \n",
       "498            7.4          2001  \n",
       "1162           5.8          2003  "
      ]
     },
     "execution_count": 141,
     "metadata": {},
     "output_type": "execute_result"
    }
   ],
   "source": [
    "data = pd.read_csv('movie_bd_v5.csv')\n",
    "data.sample(5)"
   ]
  },
  {
   "cell_type": "code",
   "execution_count": 142,
   "metadata": {
    "colab": {},
    "colab_type": "code",
    "id": "CoYUnagMVp-C"
   },
   "outputs": [
    {
     "data": {
      "text/html": [
       "<div>\n",
       "<style scoped>\n",
       "    .dataframe tbody tr th:only-of-type {\n",
       "        vertical-align: middle;\n",
       "    }\n",
       "\n",
       "    .dataframe tbody tr th {\n",
       "        vertical-align: top;\n",
       "    }\n",
       "\n",
       "    .dataframe thead th {\n",
       "        text-align: right;\n",
       "    }\n",
       "</style>\n",
       "<table border=\"1\" class=\"dataframe\">\n",
       "  <thead>\n",
       "    <tr style=\"text-align: right;\">\n",
       "      <th></th>\n",
       "      <th>budget</th>\n",
       "      <th>revenue</th>\n",
       "      <th>runtime</th>\n",
       "      <th>vote_average</th>\n",
       "      <th>release_year</th>\n",
       "    </tr>\n",
       "  </thead>\n",
       "  <tbody>\n",
       "    <tr>\n",
       "      <th>count</th>\n",
       "      <td>1.889000e+03</td>\n",
       "      <td>1.889000e+03</td>\n",
       "      <td>1889.000000</td>\n",
       "      <td>1889.000000</td>\n",
       "      <td>1889.000000</td>\n",
       "    </tr>\n",
       "    <tr>\n",
       "      <th>mean</th>\n",
       "      <td>5.431083e+07</td>\n",
       "      <td>1.553653e+08</td>\n",
       "      <td>109.658549</td>\n",
       "      <td>6.140762</td>\n",
       "      <td>2007.860773</td>\n",
       "    </tr>\n",
       "    <tr>\n",
       "      <th>std</th>\n",
       "      <td>4.858721e+07</td>\n",
       "      <td>2.146698e+08</td>\n",
       "      <td>18.017041</td>\n",
       "      <td>0.764763</td>\n",
       "      <td>4.468841</td>\n",
       "    </tr>\n",
       "    <tr>\n",
       "      <th>min</th>\n",
       "      <td>5.000000e+06</td>\n",
       "      <td>2.033165e+06</td>\n",
       "      <td>63.000000</td>\n",
       "      <td>3.300000</td>\n",
       "      <td>2000.000000</td>\n",
       "    </tr>\n",
       "    <tr>\n",
       "      <th>25%</th>\n",
       "      <td>2.000000e+07</td>\n",
       "      <td>3.456058e+07</td>\n",
       "      <td>97.000000</td>\n",
       "      <td>5.600000</td>\n",
       "      <td>2004.000000</td>\n",
       "    </tr>\n",
       "    <tr>\n",
       "      <th>50%</th>\n",
       "      <td>3.800000e+07</td>\n",
       "      <td>8.361541e+07</td>\n",
       "      <td>107.000000</td>\n",
       "      <td>6.100000</td>\n",
       "      <td>2008.000000</td>\n",
       "    </tr>\n",
       "    <tr>\n",
       "      <th>75%</th>\n",
       "      <td>7.200000e+07</td>\n",
       "      <td>1.782626e+08</td>\n",
       "      <td>120.000000</td>\n",
       "      <td>6.600000</td>\n",
       "      <td>2012.000000</td>\n",
       "    </tr>\n",
       "    <tr>\n",
       "      <th>max</th>\n",
       "      <td>3.800000e+08</td>\n",
       "      <td>2.781506e+09</td>\n",
       "      <td>214.000000</td>\n",
       "      <td>8.100000</td>\n",
       "      <td>2015.000000</td>\n",
       "    </tr>\n",
       "  </tbody>\n",
       "</table>\n",
       "</div>"
      ],
      "text/plain": [
       "             budget       revenue      runtime  vote_average  release_year\n",
       "count  1.889000e+03  1.889000e+03  1889.000000   1889.000000   1889.000000\n",
       "mean   5.431083e+07  1.553653e+08   109.658549      6.140762   2007.860773\n",
       "std    4.858721e+07  2.146698e+08    18.017041      0.764763      4.468841\n",
       "min    5.000000e+06  2.033165e+06    63.000000      3.300000   2000.000000\n",
       "25%    2.000000e+07  3.456058e+07    97.000000      5.600000   2004.000000\n",
       "50%    3.800000e+07  8.361541e+07   107.000000      6.100000   2008.000000\n",
       "75%    7.200000e+07  1.782626e+08   120.000000      6.600000   2012.000000\n",
       "max    3.800000e+08  2.781506e+09   214.000000      8.100000   2015.000000"
      ]
     },
     "execution_count": 142,
     "metadata": {},
     "output_type": "execute_result"
    }
   ],
   "source": [
    "data.describe()"
   ]
  },
  {
   "cell_type": "markdown",
   "metadata": {
    "colab_type": "text",
    "id": "DTIt7ezGVp-G"
   },
   "source": [
    "# Предобработка"
   ]
  },
  {
   "cell_type": "code",
   "execution_count": 148,
   "metadata": {
    "colab": {},
    "colab_type": "code",
    "id": "jNb40DwKVp-H"
   },
   "outputs": [],
   "source": [
    "#crate a dictionary for answers\n",
    "\n",
    "answers = {} \n",
    "\n",
    "\n",
    "#the profit is not represented in data, so we need to add column with profit \n",
    "#profit = revenue - budget\n",
    "\n",
    "data['profit'] = data['revenue'] - data['budget']\n",
    "\n",
    "#The new column with a length of movies titles\n",
    "\n",
    "data['title_len'] = data['original_title'].map(lambda s: len(s))\n",
    "\n",
    "#the new column with a length of their overview\n",
    "\n",
    "data['overview_len'] = data['overview'].map(lambda s: len(s.split()))\n",
    "\n",
    "#Some columns consist symbol \"|\".\n",
    "#for further analysis we need to add a new column with separated parameters\n",
    "#for counting every element in the list we will use explode function\n",
    "\n",
    "#add new directors list column\n",
    "\n",
    "data['dir_list'] = data.director.str.split('|')\n",
    "\n",
    "#add new genres  list column\n",
    "\n",
    "data['genres_list'] = data.genres.str.split('|')\n",
    "\n",
    "#add new column with a cast list\n",
    "\n",
    "data['cast_list'] = data.cast.str.split('|')\n",
    "\n",
    "#Add new column with a companies list\n",
    "\n",
    "data['companies_list'] = data.production_companies.str.split('|')\n",
    "\n",
    "#split date in the release date\n",
    "\n",
    "data['month'] = [int(x.split('/')[0]) for x in data['release_date']]\n",
    "\n"
   ]
  },
  {
   "cell_type": "markdown",
   "metadata": {
    "colab_type": "text",
    "id": "YxZaH-nPVp-L"
   },
   "source": [
    "# 1. У какого фильма из списка самый большой бюджет?"
   ]
  },
  {
   "cell_type": "markdown",
   "metadata": {
    "colab_type": "text",
    "id": "Nd-G5gX6Vp-M"
   },
   "source": [
    "Использовать варианты ответов в коде решения запрещено.    \n",
    "Вы думаете и в жизни у вас будут варианты ответов?)"
   ]
  },
  {
   "cell_type": "code",
   "execution_count": 151,
   "metadata": {
    "colab": {},
    "colab_type": "code",
    "id": "dZwb3m28Vp-S"
   },
   "outputs": [
    {
     "name": "stdout",
     "output_type": "stream",
     "text": [
      "       imdb_id     budget                               original_title\n",
      "723  tt1298650  380000000  Pirates of the Caribbean: On Stranger Tides\n"
     ]
    }
   ],
   "source": [
    "#variant1\n",
    "\n",
    "max_budget = data[['imdb_id','budget','original_title']].sort_values(['budget'],ascending=False).head(1)\n",
    "print(max_budget)\n",
    "\n",
    "answers['1'] = 'Pirates of the Caribbean: On Stranger Tides (tt1298650)'"
   ]
  },
  {
   "cell_type": "markdown",
   "metadata": {
    "colab_type": "text",
    "id": "K7L3nbRXVp-X"
   },
   "source": [
    "ВАРИАНТ 2"
   ]
  },
  {
   "cell_type": "code",
   "execution_count": 91,
   "metadata": {
    "colab": {},
    "colab_type": "code",
    "id": "OGaoQI7rVp-X"
   },
   "outputs": [
    {
     "name": "stdout",
     "output_type": "stream",
     "text": [
      "723    Pirates of the Caribbean: On Stranger Tides\n",
      "Name: original_title, dtype: object\n"
     ]
    }
   ],
   "source": [
    "#variant2\n",
    "\n",
    "max_budget2 = data[data.budget == data.budget.max()].original_title\n",
    "print(max_budget2)"
   ]
  },
  {
   "cell_type": "markdown",
   "metadata": {
    "colab_type": "text",
    "id": "FNRbbI3vVp-c"
   },
   "source": [
    "# 2. Какой из фильмов самый длительный (в минутах)?"
   ]
  },
  {
   "cell_type": "code",
   "execution_count": 152,
   "metadata": {
    "colab": {},
    "colab_type": "code",
    "id": "vHAoEXNTVp-d"
   },
   "outputs": [
    {
     "name": "stdout",
     "output_type": "stream",
     "text": [
      "        imdb_id  runtime     original_title\n",
      "1157  tt0279111      214  Gods and Generals\n"
     ]
    }
   ],
   "source": [
    "longest_movie = data[['imdb_id','runtime','original_title']].sort_values(['runtime'],ascending=False).head(1)\n",
    "print(longest_movie)\n",
    "\n",
    "answers['2'] = 'Gods and Generals (tt0279111)'"
   ]
  },
  {
   "cell_type": "markdown",
   "metadata": {
    "colab_type": "text",
    "id": "bapLlpW8Vp-k"
   },
   "source": [
    "# 3. Какой из фильмов самый короткий (в минутах)?\n",
    "\n",
    "\n",
    "\n"
   ]
  },
  {
   "cell_type": "code",
   "execution_count": 153,
   "metadata": {
    "colab": {},
    "colab_type": "code",
    "id": "YBxaSHuAVp-l"
   },
   "outputs": [
    {
     "name": "stdout",
     "output_type": "stream",
     "text": [
      "       imdb_id  runtime   original_title\n",
      "768  tt1449283       63  Winnie the Pooh\n"
     ]
    }
   ],
   "source": [
    "shortest_movie = data[['imdb_id','runtime','original_title']].sort_values(['runtime'],ascending=True).head(1) \n",
    "print(shortest_movie)\n",
    "\n",
    "answers['3'] = 'Winnie the Pooh (tt1449283)'"
   ]
  },
  {
   "cell_type": "markdown",
   "metadata": {
    "colab_type": "text",
    "id": "TfQbxbfNVp-p"
   },
   "source": [
    "# 4. Какова средняя длительность фильмов?\n"
   ]
  },
  {
   "cell_type": "code",
   "execution_count": 155,
   "metadata": {
    "colab": {},
    "colab_type": "code",
    "id": "5K6dKZYVVp-q"
   },
   "outputs": [
    {
     "name": "stdout",
     "output_type": "stream",
     "text": [
      "110\n"
     ]
    }
   ],
   "source": [
    "mean_runtime = round(data.runtime.mean())   \n",
    "print(mean_runtime)\n",
    "\n",
    "answers['4'] = '110'"
   ]
  },
  {
   "cell_type": "markdown",
   "metadata": {
    "colab_type": "text",
    "id": "r5TvbnT_Vp-u"
   },
   "source": [
    "# 5. Каково медианное значение длительности фильмов? "
   ]
  },
  {
   "cell_type": "code",
   "execution_count": 156,
   "metadata": {
    "colab": {},
    "colab_type": "code",
    "id": "iBROplKnVp-v"
   },
   "outputs": [
    {
     "name": "stdout",
     "output_type": "stream",
     "text": [
      "107\n"
     ]
    }
   ],
   "source": [
    "median_runtime = data.runtime.median() \n",
    "print(int(median_runtime))\n",
    "\n",
    "answers['5'] = '107'"
   ]
  },
  {
   "cell_type": "markdown",
   "metadata": {
    "colab_type": "text",
    "id": "39P-deDSVp-y"
   },
   "source": [
    "# 6. Какой самый прибыльный фильм?\n",
    "#### Внимание! Здесь и далее под «прибылью» или «убытками» понимается разность между сборами и бюджетом фильма. (прибыль = сборы - бюджет) в нашем датасете это будет (profit = revenue - budget) "
   ]
  },
  {
   "cell_type": "code",
   "execution_count": 157,
   "metadata": {
    "colab": {},
    "colab_type": "code",
    "id": "UYZh4T9WVp-y"
   },
   "outputs": [
    {
     "name": "stdout",
     "output_type": "stream",
     "text": [
      "       imdb_id original_title      profit     budget     revenue\n",
      "239  tt0499549         Avatar  2544505847  237000000  2781505847\n"
     ]
    }
   ],
   "source": [
    "#use the profit column  \n",
    "profitable_movie = data[['imdb_id','original_title','profit', 'budget', 'revenue']].sort_values(['profit'],ascending=False).head(1) \n",
    "print(profitable_movie)\n",
    "\n",
    "answers['6'] = 'Avatar (tt0499549)'"
   ]
  },
  {
   "cell_type": "markdown",
   "metadata": {
    "colab_type": "text",
    "id": "M99JmIX4Vp-2"
   },
   "source": [
    "# 7. Какой фильм самый убыточный? "
   ]
  },
  {
   "cell_type": "code",
   "execution_count": 158,
   "metadata": {
    "colab": {},
    "colab_type": "code",
    "id": "w-D2m4XPVp-3"
   },
   "outputs": [
    {
     "name": "stdout",
     "output_type": "stream",
     "text": [
      "        imdb_id   original_title     profit     budget   revenue\n",
      "1245  tt1210819  The Lone Ranger -165710090  255000000  89289910\n"
     ]
    }
   ],
   "source": [
    "unprofitable_movie = data[['imdb_id','original_title','profit', 'budget', 'revenue']].sort_values(['profit'],ascending=True).head(1) \n",
    "print(unprofitable_movie)\n",
    "\n",
    "answers['7'] = 'The Lone Ranger (tt1210819)'"
   ]
  },
  {
   "cell_type": "markdown",
   "metadata": {
    "colab_type": "text",
    "id": "wEOM5ERVVp-6"
   },
   "source": [
    "# 8. У скольких фильмов из датасета объем сборов оказался выше бюджета?"
   ]
  },
  {
   "cell_type": "code",
   "execution_count": 159,
   "metadata": {
    "colab": {},
    "colab_type": "code",
    "id": "y00_7HD6Vp-7"
   },
   "outputs": [
    {
     "name": "stdout",
     "output_type": "stream",
     "text": [
      "1478\n"
     ]
    }
   ],
   "source": [
    "profits_number = data[data.profit >0]\n",
    "print(len(profits_number))\n",
    "\n",
    "answers['8'] = '1478'"
   ]
  },
  {
   "cell_type": "markdown",
   "metadata": {
    "colab_type": "text",
    "id": "xhpspA9KVp_A"
   },
   "source": [
    "# 9. Какой фильм оказался самым кассовым в 2008 году?"
   ]
  },
  {
   "cell_type": "code",
   "execution_count": 160,
   "metadata": {
    "colab": {},
    "colab_type": "code",
    "id": "MoUyQr9RVp_B"
   },
   "outputs": [
    {
     "name": "stdout",
     "output_type": "stream",
     "text": [
      "599    The Dark Knight\n",
      "Name: original_title, dtype: object\n"
     ]
    }
   ],
   "source": [
    "#variant 1\n",
    "year_2008 = data[data.release_year == 2008]  \n",
    "highest_grossing = year_2008[year_2008.revenue == year_2008.revenue.max()].original_title\n",
    "print(highest_grossing)\n",
    "\n",
    "answers['9'] = 'The Dark Knight (tt0468569)'"
   ]
  },
  {
   "cell_type": "code",
   "execution_count": 100,
   "metadata": {
    "colab": {},
    "colab_type": "code",
    "id": "MoUyQr9RVp_B"
   },
   "outputs": [
    {
     "data": {
      "text/html": [
       "<div>\n",
       "<style scoped>\n",
       "    .dataframe tbody tr th:only-of-type {\n",
       "        vertical-align: middle;\n",
       "    }\n",
       "\n",
       "    .dataframe tbody tr th {\n",
       "        vertical-align: top;\n",
       "    }\n",
       "\n",
       "    .dataframe thead th {\n",
       "        text-align: right;\n",
       "    }\n",
       "</style>\n",
       "<table border=\"1\" class=\"dataframe\">\n",
       "  <thead>\n",
       "    <tr style=\"text-align: right;\">\n",
       "      <th></th>\n",
       "      <th>imdb_id</th>\n",
       "      <th>budget</th>\n",
       "      <th>revenue</th>\n",
       "      <th>original_title</th>\n",
       "      <th>cast</th>\n",
       "      <th>director</th>\n",
       "      <th>tagline</th>\n",
       "      <th>overview</th>\n",
       "      <th>runtime</th>\n",
       "      <th>genres</th>\n",
       "      <th>production_companies</th>\n",
       "      <th>release_date</th>\n",
       "      <th>vote_average</th>\n",
       "      <th>release_year</th>\n",
       "      <th>profit</th>\n",
       "      <th>dir_list</th>\n",
       "      <th>genres_list</th>\n",
       "      <th>cast_list</th>\n",
       "      <th>companies_list</th>\n",
       "      <th>month</th>\n",
       "    </tr>\n",
       "  </thead>\n",
       "  <tbody>\n",
       "    <tr>\n",
       "      <th>599</th>\n",
       "      <td>tt0468569</td>\n",
       "      <td>185000000</td>\n",
       "      <td>1001921825</td>\n",
       "      <td>The Dark Knight</td>\n",
       "      <td>Christian Bale|Michael Caine|Heath Ledger|Aaro...</td>\n",
       "      <td>Christopher Nolan</td>\n",
       "      <td>Why So Serious?</td>\n",
       "      <td>Batman raises the stakes in his war on crime. ...</td>\n",
       "      <td>152</td>\n",
       "      <td>Drama|Action|Crime|Thriller</td>\n",
       "      <td>DC Comics|Legendary Pictures|Warner Bros.|Syncopy</td>\n",
       "      <td>7/16/2008</td>\n",
       "      <td>8.1</td>\n",
       "      <td>2008</td>\n",
       "      <td>816921825</td>\n",
       "      <td>[Christopher Nolan]</td>\n",
       "      <td>[Drama, Action, Crime, Thriller]</td>\n",
       "      <td>[Christian Bale, Michael Caine, Heath Ledger, ...</td>\n",
       "      <td>[DC Comics, Legendary Pictures, Warner Bros., ...</td>\n",
       "      <td>7</td>\n",
       "    </tr>\n",
       "  </tbody>\n",
       "</table>\n",
       "</div>"
      ],
      "text/plain": [
       "       imdb_id     budget     revenue   original_title  \\\n",
       "599  tt0468569  185000000  1001921825  The Dark Knight   \n",
       "\n",
       "                                                  cast           director  \\\n",
       "599  Christian Bale|Michael Caine|Heath Ledger|Aaro...  Christopher Nolan   \n",
       "\n",
       "             tagline                                           overview  \\\n",
       "599  Why So Serious?  Batman raises the stakes in his war on crime. ...   \n",
       "\n",
       "     runtime                       genres  \\\n",
       "599      152  Drama|Action|Crime|Thriller   \n",
       "\n",
       "                                  production_companies release_date  \\\n",
       "599  DC Comics|Legendary Pictures|Warner Bros.|Syncopy    7/16/2008   \n",
       "\n",
       "     vote_average  release_year     profit             dir_list  \\\n",
       "599           8.1          2008  816921825  [Christopher Nolan]   \n",
       "\n",
       "                          genres_list  \\\n",
       "599  [Drama, Action, Crime, Thriller]   \n",
       "\n",
       "                                             cast_list  \\\n",
       "599  [Christian Bale, Michael Caine, Heath Ledger, ...   \n",
       "\n",
       "                                        companies_list  month  \n",
       "599  [DC Comics, Legendary Pictures, Warner Bros., ...      7  "
      ]
     },
     "execution_count": 100,
     "metadata": {},
     "output_type": "execute_result"
    }
   ],
   "source": [
    "#variant2\n",
    "highest_grossing2 = data[data.release_year == 2008].sort_values(['revenue'],ascending=False).head(1) \n",
    "highest_grossing2"
   ]
  },
  {
   "cell_type": "markdown",
   "metadata": {
    "colab_type": "text",
    "id": "Zi4hDKidVp_F"
   },
   "source": [
    "# 10. Самый убыточный фильм за период с 2012 по 2014 г. (включительно)?\n"
   ]
  },
  {
   "cell_type": "code",
   "execution_count": 161,
   "metadata": {
    "colab": {},
    "colab_type": "code",
    "id": "XqyRmufJVp_F"
   },
   "outputs": [
    {
     "name": "stdout",
     "output_type": "stream",
     "text": [
      "1245    The Lone Ranger\n",
      "Name: original_title, dtype: object\n"
     ]
    }
   ],
   "source": [
    "#variant1\n",
    "\n",
    "years2012_2014 = data[data.release_year.isin([2012,2013,2014])]\n",
    "unprofitable2012_2104 = years2012_2014[years2012_2014.profit == years2012_2014.profit.min()].original_title\n",
    "print(unprofitable2012_2104)\n",
    "\n",
    "answers['10'] = 'The Lone Ranger (tt1210819)'"
   ]
  },
  {
   "cell_type": "code",
   "execution_count": 102,
   "metadata": {},
   "outputs": [
    {
     "name": "stdout",
     "output_type": "stream",
     "text": [
      "1245    The Lone Ranger\n",
      "Name: original_title, dtype: object\n"
     ]
    }
   ],
   "source": [
    "#variant2\n",
    "\n",
    "years12_14 = data.query('2012<=release_year<=2014')\n",
    "unprofitable12_14 = years12_14[years12_14.profit == years12_14.profit.min()].original_title\n",
    "print(unprofitable12_14)"
   ]
  },
  {
   "cell_type": "markdown",
   "metadata": {
    "colab_type": "text",
    "id": "EA7Sa9dkVp_I"
   },
   "source": [
    "# 11. Какого жанра фильмов больше всего?"
   ]
  },
  {
   "cell_type": "code",
   "execution_count": 162,
   "metadata": {
    "colab": {},
    "colab_type": "code",
    "id": "zsJAwJ8QVp_J"
   },
   "outputs": [
    {
     "name": "stdout",
     "output_type": "stream",
     "text": [
      "Drama    782\n",
      "Name: genres_list, dtype: int64\n"
     ]
    }
   ],
   "source": [
    "#variant1\n",
    "\n",
    "exploded_genres = data.explode('genres_list')\n",
    "common_genres = exploded_genres['genres_list'].value_counts().head(1)\n",
    "print(common_genres)\n",
    "\n",
    "answers['11'] = 'Drama'"
   ]
  },
  {
   "cell_type": "markdown",
   "metadata": {
    "colab_type": "text",
    "id": "Ax6g2C8SVp_M"
   },
   "source": [
    "ВАРИАНТ 2"
   ]
  },
  {
   "cell_type": "code",
   "execution_count": 104,
   "metadata": {
    "colab": {},
    "colab_type": "code",
    "id": "otO3SbrSVp_N"
   },
   "outputs": [
    {
     "name": "stdout",
     "output_type": "stream",
     "text": [
      "Drama    782\n",
      "dtype: int64\n"
     ]
    }
   ],
   "source": [
    "print(pd.Series(data['genres'].str.cat(sep='|').split('|')).value_counts().head(1))"
   ]
  },
  {
   "cell_type": "markdown",
   "metadata": {
    "colab_type": "text",
    "id": "T9_bPWpkVp_Q"
   },
   "source": [
    "# 12. Фильмы какого жанра чаще всего становятся прибыльными? "
   ]
  },
  {
   "cell_type": "code",
   "execution_count": 163,
   "metadata": {
    "colab": {},
    "colab_type": "code",
    "id": "Tmt8MaK1Vp_R"
   },
   "outputs": [
    {
     "name": "stdout",
     "output_type": "stream",
     "text": [
      "Drama    560\n",
      "dtype: int64\n"
     ]
    }
   ],
   "source": [
    "#take dataframeprofits_number from task 8 and use on it code from task 11 \n",
    "\n",
    "print(pd.Series(profits_number['genres'].str.cat(sep='|').split('|')).value_counts().head(1))\n",
    "\n",
    "answers['12'] = 'Drama'"
   ]
  },
  {
   "cell_type": "markdown",
   "metadata": {
    "colab_type": "text",
    "id": "0F23bgsDVp_U"
   },
   "source": [
    "# 13. У какого режиссера самые большие суммарные кассовые сборы?"
   ]
  },
  {
   "cell_type": "code",
   "execution_count": 164,
   "metadata": {
    "colab": {},
    "colab_type": "code",
    "id": "K6Z3J8ygVp_X"
   },
   "outputs": [
    {
     "name": "stdout",
     "output_type": "stream",
     "text": [
      "                  revenue\n",
      "director                 \n",
      "Peter Jackson  6490593685\n"
     ]
    }
   ],
   "source": [
    "grossing_director = data.groupby(['director'])[['revenue']].sum().sort_values(['revenue'],ascending=False).head(1)\n",
    "print(grossing_director)\n",
    "\n",
    "answers['13'] = 'Peter Jackson'"
   ]
  },
  {
   "cell_type": "markdown",
   "metadata": {
    "colab_type": "text",
    "id": "PsYC9FgRVp_a"
   },
   "source": [
    "# 14. Какой режисер снял больше всего фильмов в стиле Action?"
   ]
  },
  {
   "cell_type": "code",
   "execution_count": 165,
   "metadata": {
    "colab": {},
    "colab_type": "code",
    "id": "wd2M-wHeVp_b"
   },
   "outputs": [
    {
     "name": "stdout",
     "output_type": "stream",
     "text": [
      "Robert Rodriguez    9\n",
      "Name: dir_list, dtype: int64\n"
     ]
    }
   ],
   "source": [
    "action_movies = data[data.genres.str.contains (\"Action\", na=False)]\n",
    "dir_exploded = action_movies.explode('dir_list')\n",
    "action_director = dir_exploded.dir_list.value_counts().head(1)\n",
    "print(action_director)\n",
    "\n",
    "answers['14'] = 'Robert Rodriguez'"
   ]
  },
  {
   "cell_type": "markdown",
   "metadata": {
    "colab_type": "text",
    "id": "PQ0KciD7Vp_f"
   },
   "source": [
    "# 15. Фильмы с каким актером принесли самые высокие кассовые сборы в 2012 году? "
   ]
  },
  {
   "cell_type": "code",
   "execution_count": 166,
   "metadata": {
    "colab": {},
    "colab_type": "code",
    "id": "aga62oeKVp_g"
   },
   "outputs": [
    {
     "name": "stdout",
     "output_type": "stream",
     "text": [
      "                    revenue\n",
      "cast_list                  \n",
      "Chris Hemsworth  2027450773\n"
     ]
    }
   ],
   "source": [
    "year_2012 = data[data.release_year == 2012]\n",
    "exploded_actor = year_2012.explode('cast_list')\n",
    "grossing_actor = exploded_actor.groupby(['cast_list'])[['revenue']].sum().sort_values(['revenue'],ascending=False).head(1)\n",
    "print(grossing_actor)\n",
    "\n",
    "\n",
    "answers['15'] = 'Chris Hemsworth'"
   ]
  },
  {
   "cell_type": "markdown",
   "metadata": {
    "colab_type": "text",
    "id": "mWHyyL7QVp_j"
   },
   "source": [
    "# 16. Какой актер снялся в большем количестве высокобюджетных фильмов?"
   ]
  },
  {
   "cell_type": "code",
   "execution_count": 167,
   "metadata": {
    "colab": {},
    "colab_type": "code",
    "id": "qQtmHKTFVp_k"
   },
   "outputs": [
    {
     "name": "stdout",
     "output_type": "stream",
     "text": [
      "Matt Damon    18\n",
      "Name: cast_list, dtype: int64\n"
     ]
    }
   ],
   "source": [
    "budget_movie = data[data.budget > data.budget.mean()]\n",
    "exploded_actor2 = budget_movie.explode('cast_list')\n",
    "grossing_actor2 = exploded_actor2.cast_list.value_counts().head(1)\n",
    "print(grossing_actor2)\n",
    "\n",
    "answers['16'] = 'Matt Damon'"
   ]
  },
  {
   "cell_type": "markdown",
   "metadata": {
    "colab_type": "text",
    "id": "NIh6AaW5Vp_n"
   },
   "source": [
    "# 17. В фильмах какого жанра больше всего снимался Nicolas Cage? "
   ]
  },
  {
   "cell_type": "code",
   "execution_count": 168,
   "metadata": {
    "colab": {},
    "colab_type": "code",
    "id": "H74SJDIBVp_n"
   },
   "outputs": [
    {
     "name": "stdout",
     "output_type": "stream",
     "text": [
      "Action    17\n",
      "dtype: int64\n"
     ]
    }
   ],
   "source": [
    "Cage = data[data.cast.str.contains (\"Nicolas Cage\", na=False)]\n",
    "print(pd.Series(Cage['genres'].str.cat(sep='|').split('|')).value_counts().head(1))\n",
    "\n",
    "answers['17'] = 'Action'"
   ]
  },
  {
   "cell_type": "markdown",
   "metadata": {
    "colab_type": "text",
    "id": "RqOmPRfWVp_q"
   },
   "source": [
    "# 18. Самый убыточный фильм от Paramount Pictures"
   ]
  },
  {
   "cell_type": "code",
   "execution_count": 169,
   "metadata": {
    "colab": {},
    "colab_type": "code",
    "id": "9E_B0Y96Vp_r"
   },
   "outputs": [
    {
     "name": "stdout",
     "output_type": "stream",
     "text": [
      "       imdb_id        original_title    profit\n",
      "925  tt0267626  K-19: The Widowmaker -64831034\n"
     ]
    }
   ],
   "source": [
    "Paramount = data[data.production_companies.str.contains (\"Paramount Pictures\", na=False)]\n",
    "unprofitable_Paramount = Paramount[['imdb_id','original_title','profit']].sort_values(['profit'],ascending=True).head(1) \n",
    "print(unprofitable_Paramount)\n",
    "\n",
    "answers['18'] = 'K-19: The Widowmaker (tt0267626)'"
   ]
  },
  {
   "cell_type": "markdown",
   "metadata": {
    "colab_type": "text",
    "id": "vS8Ur6ddVp_u"
   },
   "source": [
    "# 19. Какой год стал самым успешным по суммарным кассовым сборам?"
   ]
  },
  {
   "cell_type": "code",
   "execution_count": 170,
   "metadata": {
    "colab": {},
    "colab_type": "code",
    "id": "Dnbt4GdIVp_v"
   },
   "outputs": [
    {
     "name": "stdout",
     "output_type": "stream",
     "text": [
      "                  revenue\n",
      "release_year             \n",
      "2015          25449202382\n"
     ]
    }
   ],
   "source": [
    "best_year = data.groupby(['release_year'])[['revenue']].sum().sort_values(['revenue'],ascending=False).head(1)\n",
    "print(best_year)\n",
    "\n",
    "answers['19'] = '2015'"
   ]
  },
  {
   "cell_type": "markdown",
   "metadata": {
    "colab_type": "text",
    "id": "JAzJh4QAVp_z"
   },
   "source": [
    "# 20. Какой самый прибыльный год для студии Warner Bros?"
   ]
  },
  {
   "cell_type": "code",
   "execution_count": 171,
   "metadata": {
    "colab": {},
    "colab_type": "code",
    "id": "wgVu02DEVp_0"
   },
   "outputs": [
    {
     "name": "stdout",
     "output_type": "stream",
     "text": [
      "                 revenue\n",
      "release_year            \n",
      "2014          3243064519\n"
     ]
    }
   ],
   "source": [
    "Warner = data[data.production_companies.str.contains (\"Warner Bros\", na=False)]\n",
    "best_Warner = Warner.groupby(['release_year'])[['revenue']].sum().sort_values(['revenue'],ascending=False).head(1) \n",
    "print(best_Warner)\n",
    "\n",
    "answers['20'] = '2014'"
   ]
  },
  {
   "cell_type": "markdown",
   "metadata": {
    "colab_type": "text",
    "id": "8Im1S2HRVp_4"
   },
   "source": [
    "# 21. В каком месяце за все годы суммарно вышло больше всего фильмов?"
   ]
  },
  {
   "cell_type": "code",
   "execution_count": 172,
   "metadata": {
    "colab": {},
    "colab_type": "code",
    "id": "lev6TH7gVp_4"
   },
   "outputs": [
    {
     "data": {
      "text/plain": [
       "month\n",
       "9    227\n",
       "dtype: int64"
      ]
     },
     "metadata": {},
     "output_type": "display_data"
    }
   ],
   "source": [
    "pivot_months = data.pivot_table(values='imdb_id',\n",
    "                           index='release_year',\n",
    "                           columns='month',\n",
    "                           fill_value=0,\n",
    "                           aggfunc='count')\n",
    "display(pivot_months.sum().sort_values(ascending=False).head(1))\n",
    "\n",
    "answers['21'] = '9'"
   ]
  },
  {
   "cell_type": "markdown",
   "metadata": {
    "colab_type": "text",
    "id": "uAJsZ_NeVp_7"
   },
   "source": [
    "# 22. Сколько суммарно вышло фильмов летом? (за июнь, июль, август)"
   ]
  },
  {
   "cell_type": "code",
   "execution_count": 173,
   "metadata": {
    "colab": {},
    "colab_type": "code",
    "id": "Aa-hEREoVp_8"
   },
   "outputs": [
    {
     "data": {
      "text/plain": [
       "450"
      ]
     },
     "metadata": {},
     "output_type": "display_data"
    }
   ],
   "source": [
    "display(pivot_months.sum()[5:8].sum())\n",
    "\n",
    "answers['22'] = '450'"
   ]
  },
  {
   "cell_type": "markdown",
   "metadata": {
    "colab_type": "text",
    "id": "G94ppOY1VqAA"
   },
   "source": [
    "# 23. Для какого режиссера зима – самое продуктивное время года? "
   ]
  },
  {
   "cell_type": "code",
   "execution_count": 174,
   "metadata": {
    "colab": {},
    "colab_type": "code",
    "id": "RhNTsamuVqAB"
   },
   "outputs": [
    {
     "data": {
      "text/plain": [
       "[('Peter Jackson', 7)]"
      ]
     },
     "metadata": {},
     "output_type": "display_data"
    }
   ],
   "source": [
    "winter = data[(data.month.isin([1,2,12]))] \n",
    "winter_dir = winter.director.str.split('|').sum() \n",
    "display(Counter(winter_dir).most_common(1))\n",
    "\n",
    "answers['23'] = 'Peter Jackson'\n"
   ]
  },
  {
   "cell_type": "markdown",
   "metadata": {
    "colab_type": "text",
    "id": "RBo0JVjVVqAF"
   },
   "source": [
    "# 24. Какая студия дает самые длинные названия своим фильмам по количеству символов?"
   ]
  },
  {
   "cell_type": "code",
   "execution_count": 175,
   "metadata": {
    "colab": {},
    "colab_type": "code",
    "id": "QRGS8L0iVqAG"
   },
   "outputs": [
    {
     "name": "stdout",
     "output_type": "stream",
     "text": [
      "companies_list\n",
      "Four By Two Productions    83.0\n",
      "Name: title_len, dtype: float64\n"
     ]
    }
   ],
   "source": [
    "exploded_companies = data.explode('companies_list')\n",
    "title_names = exploded_companies.groupby(['companies_list'])['title_len'].mean().sort_values(ascending=False)\n",
    "print(title_names.head(1))\n",
    "\n",
    "answers['24'] = 'Four By Two Productions'"
   ]
  },
  {
   "cell_type": "markdown",
   "metadata": {
    "colab_type": "text",
    "id": "9G0hbvR7VqAK"
   },
   "source": [
    "# 25. Описание фильмов какой студии в среднем самые длинные по количеству слов?"
   ]
  },
  {
   "cell_type": "code",
   "execution_count": 176,
   "metadata": {
    "colab": {},
    "colab_type": "code",
    "id": "Ge2GsLNxVqAK"
   },
   "outputs": [
    {
     "name": "stdout",
     "output_type": "stream",
     "text": [
      "companies_list\n",
      "Midnight Picture Show    175.0\n",
      "Name: overview_len, dtype: float64\n"
     ]
    }
   ],
   "source": [
    "longest_overview = exploded_companies.groupby(['companies_list'])['overview_len'].mean().sort_values(ascending=False)\n",
    "print(longest_overview.head(1))\n",
    "\n",
    "answers['25']= 'Midnight Picture Show'"
   ]
  },
  {
   "cell_type": "markdown",
   "metadata": {
    "colab_type": "text",
    "id": "FJ1AFt90VqAP"
   },
   "source": [
    "# 26. Какие фильмы входят в 1 процент лучших по рейтингу? \n",
    "по vote_average"
   ]
  },
  {
   "cell_type": "code",
   "execution_count": 177,
   "metadata": {
    "colab": {},
    "colab_type": "code",
    "id": "8qmJVq4CVqAQ"
   },
   "outputs": [
    {
     "name": "stdout",
     "output_type": "stream",
     "text": [
      "                                     original_title  vote_average\n",
      "9                                        Inside Out           8.0\n",
      "34                                             Room           8.0\n",
      "118                                    Interstellar           8.0\n",
      "119                         Guardians of the Galaxy           7.9\n",
      "125                              The Imitation Game           8.0\n",
      "128                                       Gone Girl           7.9\n",
      "138                        The Grand Budapest Hotel           7.9\n",
      "370                                       Inception           7.9\n",
      "599                                 The Dark Knight           8.1\n",
      "872                                     The Pianist           7.9\n",
      "1081  The Lord of the Rings: The Return of the King           7.9\n",
      "1183                        The Wolf of Wall Street           7.9\n",
      "1191                               12 Years a Slave           7.9\n",
      "1800                                        Memento           7.9\n"
     ]
    }
   ],
   "source": [
    "top = data[data['vote_average'] > data['vote_average'].quantile(0.99)][['original_title','vote_average']]\n",
    "print(top)\n",
    "\n",
    "answers['26'] = 'Inside Out, The Dark Knight, 12 Years a Slave'"
   ]
  },
  {
   "cell_type": "markdown",
   "metadata": {
    "colab_type": "text",
    "id": "MdXsUXbCVqAV"
   },
   "source": [
    "# 27. Какие актеры чаще всего снимаются в одном фильме вместе?\n"
   ]
  },
  {
   "cell_type": "code",
   "execution_count": 178,
   "metadata": {},
   "outputs": [
    {
     "data": {
      "text/plain": [
       "[('Daniel Radcliffe Rupert Grint', 8)]"
      ]
     },
     "metadata": {},
     "output_type": "display_data"
    }
   ],
   "source": [
    "#variant1\n",
    "couple_list=[] \n",
    "\n",
    "for actors_list in data.cast_list:\n",
    "    for couple in combinations(actors_list, 2):\n",
    "        couple_list.append(' '.join(sorted(couple)))\n",
    "\n",
    "display(Counter(couple_list).most_common()[0:1])\n",
    "\n",
    "answers['27'] = 'Daniel Radcliffe Rupert Grint'"
   ]
  },
  {
   "cell_type": "markdown",
   "metadata": {
    "colab_type": "text",
    "id": "4ymnxEVoVqAW"
   },
   "source": [
    "ВАРИАНТ 2"
   ]
  },
  {
   "cell_type": "code",
   "execution_count": 121,
   "metadata": {},
   "outputs": [
    {
     "data": {
      "text/plain": [
       "[(('Daniel Radcliffe', 'Rupert Grint'), 8)]"
      ]
     },
     "execution_count": 121,
     "metadata": {},
     "output_type": "execute_result"
    }
   ],
   "source": [
    "#variant2\n",
    "data['pairs'] = data['cast_list'].apply(lambda s: list(combinations(s, 2)))\n",
    "data = data.explode('pairs')\n",
    "collections.Counter(data['pairs']).most_common(1)"
   ]
  },
  {
   "cell_type": "markdown",
   "metadata": {
    "colab_type": "text",
    "id": "U0nONFnGVqAX"
   },
   "source": [
    "# Submission"
   ]
  },
  {
   "cell_type": "code",
   "execution_count": 179,
   "metadata": {
    "colab": {},
    "colab_type": "code",
    "id": "IfcaRO9-VqAX",
    "outputId": "0f132912-32bb-4196-c98c-abfbc4ad5a5f"
   },
   "outputs": [
    {
     "data": {
      "text/plain": [
       "{'24': 'Four By Two Productions',\n",
       " '1': 'Pirates of the Caribbean: On Stranger Tides (tt1298650)',\n",
       " '2': 'Gods and Generals (tt0279111)',\n",
       " '3': 'Winnie the Pooh (tt1449283)',\n",
       " '4': '110',\n",
       " '5': '107',\n",
       " '6': 'Avatar (tt0499549)',\n",
       " '7': 'The Lone Ranger (tt1210819)',\n",
       " '8': '1478',\n",
       " '9': 'The Dark Knight (tt0468569)',\n",
       " '10': 'The Lone Ranger (tt1210819)',\n",
       " '11': 'Drama',\n",
       " '12': 'Drama',\n",
       " '13': 'Peter Jackson',\n",
       " '14': 'Robert Rodriguez',\n",
       " '15': 'Chris Hemsworth',\n",
       " '16': 'Matt Damon',\n",
       " '17': 'Action',\n",
       " '18': 'K-19: The Widowmaker (tt0267626)',\n",
       " '19': '2015',\n",
       " '20': '2014',\n",
       " '21': '9',\n",
       " '22': '450',\n",
       " '23': 'Peter Jackson',\n",
       " '25': 'Midnight Picture Show',\n",
       " '26': 'Inside Out, The Dark Knight, 12 Years a Slave',\n",
       " '27': 'Daniel Radcliffe Rupert Grint'}"
      ]
     },
     "execution_count": 179,
     "metadata": {},
     "output_type": "execute_result"
    }
   ],
   "source": [
    "# в конце можно посмотреть свои ответы к каждому вопросу\n",
    "answers"
   ]
  },
  {
   "cell_type": "code",
   "execution_count": 180,
   "metadata": {
    "colab": {},
    "colab_type": "code",
    "id": "SiRmHPl8VqAd"
   },
   "outputs": [
    {
     "data": {
      "text/plain": [
       "27"
      ]
     },
     "execution_count": 180,
     "metadata": {},
     "output_type": "execute_result"
    }
   ],
   "source": [
    "# и убедиться что ни чего не пропустил)\n",
    "len(answers)"
   ]
  },
  {
   "cell_type": "code",
   "execution_count": 0,
   "metadata": {
    "colab": {},
    "colab_type": "code",
    "id": "uCfuTkRbVqAg"
   },
   "outputs": [],
   "source": []
  },
  {
   "cell_type": "code",
   "execution_count": 0,
   "metadata": {
    "colab": {},
    "colab_type": "code",
    "id": "Vwx3NrkSVqAl"
   },
   "outputs": [],
   "source": []
  }
 ],
 "metadata": {
  "colab": {
   "name": "Copy of [SF-DST] Movies IMBD v4.1 TEMPLATE.ipynb",
   "provenance": []
  },
  "kernelspec": {
   "display_name": "Python 3",
   "language": "python",
   "name": "python3"
  },
  "language_info": {
   "codemirror_mode": {
    "name": "ipython",
    "version": 3
   },
   "file_extension": ".py",
   "mimetype": "text/x-python",
   "name": "python",
   "nbconvert_exporter": "python",
   "pygments_lexer": "ipython3",
   "version": "3.8.5"
  }
 },
 "nbformat": 4,
 "nbformat_minor": 1
}
