{
 "cells": [
  {
   "cell_type": "markdown",
   "metadata": {},
   "source": [
    "# Введение\n",
    "\n",
    "В этом ноутбуке мы рассмотрим задачу прогнозирования биологического ответа молекул на основе их химического состава, представленную в соревновании __Kaggle__ https://www.kaggle.com/competitions/bioresponse/overview. \n",
    "Цель соревнования - разработать модель, которая сможет предсказать, как молекула будет реагировать на биологические стимулы, используя только информацию о её химическом составе. Это важно для ускорения процесса открытия новых лекарств, так как позволяет предсказать биологическую активность молекул без необходимости проведения дорогостоящих и времязатратных лабораторных экспериментов.\n",
    "\n",
    "В рамках __практической работы ML-7__, \n",
    "наша задача состоит в том, чтобы обучить две модели машинного обучения: логистическую регрессию и случайный лес. После обучения моделей необходимо провести подбор гиперпараметров с использованием как базовых, так и продвинутых методов оптимизации. Мы будем использовать четыре различных метода: __GridSearchCV, RandomizedSearchCV, Hyperopt и Optuna__, применяя каждый из них хотя бы один раз. Максимальное количество итераций для каждого метода не должно превышать 50. Это позволит нам определить наилучшие параметры для наших моделей, чтобы максимизировать их производительность и точность прогнозирования."
   ]
  },
  {
   "cell_type": "markdown",
   "metadata": {},
   "source": [
    "# Импорт необходимых библиотек\n",
    "\n",
    "Подготовка рабочего пространства\n"
   ]
  },
  {
   "cell_type": "code",
   "execution_count": 3,
   "metadata": {},
   "outputs": [],
   "source": [
    "# Базовые библиотеки для работы с данными\n",
    "import numpy as np\n",
    "import pandas as pd\n",
    "\n",
    "#предобработка\n",
    "from sklearn import preprocessing \n",
    "\n",
    "# Модели машинного обучения\n",
    "from sklearn import linear_model \n",
    "from sklearn import ensemble \n",
    "from sklearn.ensemble import RandomForestClassifier\n",
    "\n",
    "# Инструменты для разделения данных и кросс-валидации\n",
    "from sklearn.model_selection import train_test_split, cross_val_score\n",
    "\n",
    "# Метрики для оценки моделей\n",
    "from sklearn import metrics #метрики\n",
    "from sklearn.metrics import f1_score, make_scorer\n",
    "\n",
    "\n",
    "# Инструменты для подбора гиперпараметров\n",
    "from sklearn.model_selection import GridSearchCV, RandomizedSearchCV\n",
    "import hyperopt\n",
    "import optuna\n",
    "\n",
    "# Вспомогательные библиотеки\n",
    "from scipy.stats import loguniform  # Для RandomizedSearchCV\n",
    "from hyperopt import hp, fmin, tpe, STATUS_OK, Trials  # Для Hyperopt\n",
    "from optuna import create_study, Trial  # Для Optuna\n",
    "\n",
    "# Дополнительные библиотеки для визуализации (по желанию)\n",
    "import matplotlib.pyplot as plt\n",
    "import seaborn as sns\n"
   ]
  },
  {
   "cell_type": "markdown",
   "metadata": {},
   "source": [
    "# Загрузка и первичный анализ данных\n",
    "Чтение данных\n",
    "Первичный анализ структуры данных"
   ]
  },
  {
   "cell_type": "code",
   "execution_count": 4,
   "metadata": {},
   "outputs": [
    {
     "data": {
      "text/html": [
       "<div>\n",
       "<style scoped>\n",
       "    .dataframe tbody tr th:only-of-type {\n",
       "        vertical-align: middle;\n",
       "    }\n",
       "\n",
       "    .dataframe tbody tr th {\n",
       "        vertical-align: top;\n",
       "    }\n",
       "\n",
       "    .dataframe thead th {\n",
       "        text-align: right;\n",
       "    }\n",
       "</style>\n",
       "<table border=\"1\" class=\"dataframe\">\n",
       "  <thead>\n",
       "    <tr style=\"text-align: right;\">\n",
       "      <th></th>\n",
       "      <th>Activity</th>\n",
       "      <th>D1</th>\n",
       "      <th>D2</th>\n",
       "      <th>D3</th>\n",
       "      <th>D4</th>\n",
       "      <th>D5</th>\n",
       "      <th>D6</th>\n",
       "      <th>D7</th>\n",
       "      <th>D8</th>\n",
       "      <th>D9</th>\n",
       "      <th>...</th>\n",
       "      <th>D1767</th>\n",
       "      <th>D1768</th>\n",
       "      <th>D1769</th>\n",
       "      <th>D1770</th>\n",
       "      <th>D1771</th>\n",
       "      <th>D1772</th>\n",
       "      <th>D1773</th>\n",
       "      <th>D1774</th>\n",
       "      <th>D1775</th>\n",
       "      <th>D1776</th>\n",
       "    </tr>\n",
       "  </thead>\n",
       "  <tbody>\n",
       "    <tr>\n",
       "      <th>0</th>\n",
       "      <td>1</td>\n",
       "      <td>0.000000</td>\n",
       "      <td>0.497009</td>\n",
       "      <td>0.10</td>\n",
       "      <td>0.0</td>\n",
       "      <td>0.132956</td>\n",
       "      <td>0.678031</td>\n",
       "      <td>0.273166</td>\n",
       "      <td>0.585445</td>\n",
       "      <td>0.743663</td>\n",
       "      <td>...</td>\n",
       "      <td>0</td>\n",
       "      <td>0</td>\n",
       "      <td>0</td>\n",
       "      <td>0</td>\n",
       "      <td>0</td>\n",
       "      <td>0</td>\n",
       "      <td>0</td>\n",
       "      <td>0</td>\n",
       "      <td>0</td>\n",
       "      <td>0</td>\n",
       "    </tr>\n",
       "    <tr>\n",
       "      <th>1</th>\n",
       "      <td>1</td>\n",
       "      <td>0.366667</td>\n",
       "      <td>0.606291</td>\n",
       "      <td>0.05</td>\n",
       "      <td>0.0</td>\n",
       "      <td>0.111209</td>\n",
       "      <td>0.803455</td>\n",
       "      <td>0.106105</td>\n",
       "      <td>0.411754</td>\n",
       "      <td>0.836582</td>\n",
       "      <td>...</td>\n",
       "      <td>1</td>\n",
       "      <td>1</td>\n",
       "      <td>1</td>\n",
       "      <td>1</td>\n",
       "      <td>0</td>\n",
       "      <td>1</td>\n",
       "      <td>0</td>\n",
       "      <td>0</td>\n",
       "      <td>1</td>\n",
       "      <td>0</td>\n",
       "    </tr>\n",
       "    <tr>\n",
       "      <th>2</th>\n",
       "      <td>1</td>\n",
       "      <td>0.033300</td>\n",
       "      <td>0.480124</td>\n",
       "      <td>0.00</td>\n",
       "      <td>0.0</td>\n",
       "      <td>0.209791</td>\n",
       "      <td>0.610350</td>\n",
       "      <td>0.356453</td>\n",
       "      <td>0.517720</td>\n",
       "      <td>0.679051</td>\n",
       "      <td>...</td>\n",
       "      <td>0</td>\n",
       "      <td>0</td>\n",
       "      <td>0</td>\n",
       "      <td>0</td>\n",
       "      <td>0</td>\n",
       "      <td>0</td>\n",
       "      <td>0</td>\n",
       "      <td>0</td>\n",
       "      <td>0</td>\n",
       "      <td>0</td>\n",
       "    </tr>\n",
       "    <tr>\n",
       "      <th>3</th>\n",
       "      <td>1</td>\n",
       "      <td>0.000000</td>\n",
       "      <td>0.538825</td>\n",
       "      <td>0.00</td>\n",
       "      <td>0.5</td>\n",
       "      <td>0.196344</td>\n",
       "      <td>0.724230</td>\n",
       "      <td>0.235606</td>\n",
       "      <td>0.288764</td>\n",
       "      <td>0.805110</td>\n",
       "      <td>...</td>\n",
       "      <td>0</td>\n",
       "      <td>0</td>\n",
       "      <td>0</td>\n",
       "      <td>0</td>\n",
       "      <td>0</td>\n",
       "      <td>0</td>\n",
       "      <td>0</td>\n",
       "      <td>0</td>\n",
       "      <td>0</td>\n",
       "      <td>0</td>\n",
       "    </tr>\n",
       "    <tr>\n",
       "      <th>4</th>\n",
       "      <td>0</td>\n",
       "      <td>0.100000</td>\n",
       "      <td>0.517794</td>\n",
       "      <td>0.00</td>\n",
       "      <td>0.0</td>\n",
       "      <td>0.494734</td>\n",
       "      <td>0.781422</td>\n",
       "      <td>0.154361</td>\n",
       "      <td>0.303809</td>\n",
       "      <td>0.812646</td>\n",
       "      <td>...</td>\n",
       "      <td>0</td>\n",
       "      <td>0</td>\n",
       "      <td>0</td>\n",
       "      <td>0</td>\n",
       "      <td>0</td>\n",
       "      <td>0</td>\n",
       "      <td>0</td>\n",
       "      <td>0</td>\n",
       "      <td>0</td>\n",
       "      <td>0</td>\n",
       "    </tr>\n",
       "  </tbody>\n",
       "</table>\n",
       "<p>5 rows × 1777 columns</p>\n",
       "</div>"
      ],
      "text/plain": [
       "   Activity        D1        D2    D3   D4        D5        D6        D7  \\\n",
       "0         1  0.000000  0.497009  0.10  0.0  0.132956  0.678031  0.273166   \n",
       "1         1  0.366667  0.606291  0.05  0.0  0.111209  0.803455  0.106105   \n",
       "2         1  0.033300  0.480124  0.00  0.0  0.209791  0.610350  0.356453   \n",
       "3         1  0.000000  0.538825  0.00  0.5  0.196344  0.724230  0.235606   \n",
       "4         0  0.100000  0.517794  0.00  0.0  0.494734  0.781422  0.154361   \n",
       "\n",
       "         D8        D9  ...  D1767  D1768  D1769  D1770  D1771  D1772  D1773  \\\n",
       "0  0.585445  0.743663  ...      0      0      0      0      0      0      0   \n",
       "1  0.411754  0.836582  ...      1      1      1      1      0      1      0   \n",
       "2  0.517720  0.679051  ...      0      0      0      0      0      0      0   \n",
       "3  0.288764  0.805110  ...      0      0      0      0      0      0      0   \n",
       "4  0.303809  0.812646  ...      0      0      0      0      0      0      0   \n",
       "\n",
       "   D1774  D1775  D1776  \n",
       "0      0      0      0  \n",
       "1      0      1      0  \n",
       "2      0      0      0  \n",
       "3      0      0      0  \n",
       "4      0      0      0  \n",
       "\n",
       "[5 rows x 1777 columns]"
      ]
     },
     "execution_count": 4,
     "metadata": {},
     "output_type": "execute_result"
    }
   ],
   "source": [
    "data = pd.read_csv('data/_train_sem09.csv')\n",
    "\n",
    "data.head()"
   ]
  },
  {
   "cell_type": "code",
   "execution_count": 5,
   "metadata": {},
   "outputs": [
    {
     "data": {
      "image/png": "[encoded data removed]",
      "text/plain": [
       "<Figure size 640x480 with 1 Axes>"
      ]
     },
     "metadata": {},
     "output_type": "display_data"
    }
   ],
   "source": [
    "sns.countplot(data=data, x='Activity'); "
   ]
  },
  {
   "cell_type": "code",
   "execution_count": 6,
   "metadata": {},
   "outputs": [
    {
     "name": "stdout",
     "output_type": "stream",
     "text": [
      "<class 'pandas.core.frame.DataFrame'>\n",
      "RangeIndex: 3751 entries, 0 to 3750\n",
      "Columns: 1777 entries, Activity to D1776\n",
      "dtypes: float64(942), int64(835)\n",
      "memory usage: 50.9 MB\n"
     ]
    }
   ],
   "source": [
    "data.info()"
   ]
  },
  {
   "cell_type": "markdown",
   "metadata": {},
   "source": []
  },
  {
   "cell_type": "markdown",
   "metadata": {},
   "source": [
    "# Предобработка данных\n",
    "Проверка на пропущенные значения\n",
    "Нормализация данных (если требуется)"
   ]
  },
  {
   "cell_type": "code",
   "execution_count": 7,
   "metadata": {},
   "outputs": [
    {
     "name": "stdout",
     "output_type": "stream",
     "text": [
      "Пропущенных значений нет.\n",
      "Дубликатов нет.\n"
     ]
    }
   ],
   "source": [
    "# Проверка на пропущенные значения\n",
    "def check_missing_values(data):\n",
    "    missing_values = data.isnull().sum()\n",
    "    if missing_values.any():\n",
    "        print(\"В датасете есть пропущенные значения:\")\n",
    "        print(missing_values)\n",
    "    else:\n",
    "        print(\"Пропущенных значений нет.\")\n",
    "\n",
    "# Проверка на дубликаты\n",
    "def check_duplicates(data):\n",
    "    if data.duplicated().any():\n",
    "        print(\"В датасете есть дубликаты.\")\n",
    "        # Опционально: удаление дубликатов\n",
    "        # df = df.drop_duplicates()\n",
    "    else:\n",
    "        print(\"Дубликатов нет.\")\n",
    "\n",
    "# Вызов функций для проверки датасета\n",
    "check_missing_values(data)\n",
    "check_duplicates(data)"
   ]
  },
  {
   "cell_type": "code",
   "execution_count": 8,
   "metadata": {},
   "outputs": [],
   "source": [
    "# Создаем матрицу наблюдений X и вектор ответов y\n",
    "X = data.drop('Activity', axis=1)\n",
    "y = data['Activity']"
   ]
  },
  {
   "cell_type": "code",
   "execution_count": 9,
   "metadata": {},
   "outputs": [],
   "source": [
    "X_train, X_test, y_train, y_test = train_test_split(X, y, stratify=y, random_state = 1, test_size = 0.2)"
   ]
  },
  {
   "cell_type": "markdown",
   "metadata": {},
   "source": [
    "Производим нормализацию данных с помощью min-max нормализации"
   ]
  },
  {
   "cell_type": "code",
   "execution_count": 10,
   "metadata": {},
   "outputs": [],
   "source": [
    "scaler = preprocessing.MinMaxScaler()\n",
    "scaler.fit(X_train)\n",
    "X_train_scaled = scaler.transform(X_train)\n",
    "X_test_scaled = scaler.transform(X_test)"
   ]
  },
  {
   "cell_type": "markdown",
   "metadata": {},
   "source": []
  },
  {
   "cell_type": "markdown",
   "metadata": {},
   "source": [
    "# Обучение моделей\n",
    "Логистическая регрессия\n",
    "Случайный лес"
   ]
  },
  {
   "cell_type": "code",
   "execution_count": 11,
   "metadata": {},
   "outputs": [
    {
     "name": "stdout",
     "output_type": "stream",
     "text": [
      "accuracy на тестовом наборе: 0.75\n",
      "f1_score на тестовом наборе: 0.78\n"
     ]
    }
   ],
   "source": [
    "#Создаем объект класса логистическая регрессия\n",
    "log_reg = linear_model.LogisticRegression(max_iter = 1000 ,random_state=42)\n",
    "#Обучаем модель, минимизируя logloss\n",
    "log_reg.fit(X_train_scaled, y_train)\n",
    "print(\"accuracy на тестовом наборе: {:.2f}\".format(log_reg.score(X_test_scaled, y_test)))\n",
    "y_test_pred = log_reg.predict(X_test_scaled)\n",
    "print('f1_score на тестовом наборе: {:.2f}'.format(metrics.f1_score(y_test, y_test_pred)))"
   ]
  },
  {
   "cell_type": "code",
   "execution_count": 12,
   "metadata": {},
   "outputs": [
    {
     "name": "stdout",
     "output_type": "stream",
     "text": [
      "accuracy на тестовом наборе: 0.79\n",
      "f1_score на тестовом наборе: 0.81\n"
     ]
    }
   ],
   "source": [
    "# Создаем объект класса случайный лес\n",
    "random_forest = RandomForestClassifier(random_state=42)\n",
    "# Обучаем модель\n",
    "random_forest.fit(X_train_scaled, y_train)\n",
    "\n",
    "# Оцениваем точность на тестовом наборе\n",
    "print(\"accuracy на тестовом наборе: {:.2f}\".format(random_forest.score(X_test_scaled, y_test)))\n",
    "# Делаем предсказания на тестовом наборе\n",
    "y_test_pred_rf = random_forest.predict(X_test_scaled)\n",
    "# Вычисляем F1-меру на тестовом наборе\n",
    "print('f1_score на тестовом наборе: {:.2f}'.format(metrics.f1_score(y_test, y_test_pred_rf)))"
   ]
  },
  {
   "cell_type": "markdown",
   "metadata": {},
   "source": []
  },
  {
   "cell_type": "markdown",
   "metadata": {},
   "source": [
    "# Подбор гиперпараметров\n",
    "GridSearchCV\n",
    "RandomizedSearchCV\n",
    "Hyperopt\n",
    "Optuna"
   ]
  },
  {
   "cell_type": "markdown",
   "metadata": {},
   "source": [
    "## RandomizedSearchCV для логистической регресии "
   ]
  },
  {
   "cell_type": "code",
   "execution_count": 13,
   "metadata": {},
   "outputs": [
    {
     "name": "stdout",
     "output_type": "stream",
     "text": [
      "CPU times: total: 562 ms\n",
      "Wall time: 1min 28s\n",
      "accuracy на тестовом наборе: 0.76\n",
      "f1_score на тестовом наборе: 0.78\n",
      "Наилучшие значения гиперпараметров: {'solver': 'lbfgs', 'penalty': 'l2', 'C': 0.12}\n"
     ]
    }
   ],
   "source": [
    "\n",
    "#np.linspace(start(от), stop(до), num=50(количество),dtype- тип данных)\n",
    "param_distributions = {'penalty': ['l2', None] ,\n",
    "              'solver': ['lbfgs', 'sag'],\n",
    "               'C': list(np.linspace(0.01, 1, 10, dtype=float))}\n",
    "            \n",
    "random_search = RandomizedSearchCV(\n",
    "    estimator=linear_model.LogisticRegression(random_state=42, max_iter=1000), \n",
    "    param_distributions=param_distributions, \n",
    "    cv=5, \n",
    "    n_iter = 10, \n",
    "    n_jobs = -1\n",
    ")  \n",
    "%time random_search.fit(X_train_scaled, y_train) \n",
    "print(\"accuracy на тестовом наборе: {:.2f}\".format(random_search.score(X_test_scaled, y_test)))\n",
    "y_test_pred = random_search.predict(X_test_scaled)\n",
    "print('f1_score на тестовом наборе: {:.2f}'.format(metrics.f1_score(y_test, y_test_pred)))\n",
    "print(\"Наилучшие значения гиперпараметров: {}\".format(random_search.best_params_))"
   ]
  },
  {
   "cell_type": "markdown",
   "metadata": {},
   "source": []
  },
  {
   "cell_type": "markdown",
   "metadata": {},
   "source": [
    "## RandomizedSearchCV для Случайного леса"
   ]
  },
  {
   "cell_type": "code",
   "execution_count": 14,
   "metadata": {},
   "outputs": [
    {
     "name": "stdout",
     "output_type": "stream",
     "text": [
      "accuracy на тестовом наборе: 0.80\n",
      "f1_score на тестовом наборе: 0.82\n",
      "Наилучшие значения гиперпараметров: {'n_estimators': 200, 'min_samples_split': 5, 'min_samples_leaf': 2, 'max_depth': None}\n"
     ]
    }
   ],
   "source": [
    "# Определение распределения параметров для случайного леса\n",
    "param_distributions_rf = {\n",
    "    'n_estimators': [10, 50, 100, 200],\n",
    "    'max_depth': [None, 10, 20, 30],\n",
    "    'min_samples_split': [2, 5, 10],\n",
    "    'min_samples_leaf': [1, 2, 4]\n",
    "}\n",
    "\n",
    "# Создание объекта RandomizedSearchCV\n",
    "random_search_rf = RandomizedSearchCV(\n",
    "    estimator=RandomForestClassifier(random_state=42),\n",
    "    param_distributions=param_distributions_rf,\n",
    "    n_iter=10,\n",
    "    cv=5,\n",
    "    n_jobs=-1,\n",
    "    random_state=42\n",
    ")\n",
    "\n",
    "# Обучение RandomizedSearchCV\n",
    "random_search_rf.fit(X_train_scaled, y_train)\n",
    "\n",
    "# Вывод результатов\n",
    "print(\"accuracy на тестовом наборе: {:.2f}\".format(random_search_rf.score(X_test_scaled, y_test)))\n",
    "y_test_pred_rf = random_search_rf.predict(X_test_scaled)\n",
    "print('f1_score на тестовом наборе: {:.2f}'.format(metrics.f1_score(y_test, y_test_pred_rf)))\n",
    "print(\"Наилучшие значения гиперпараметров: {}\".format(random_search_rf.best_params_))"
   ]
  },
  {
   "cell_type": "markdown",
   "metadata": {},
   "source": []
  },
  {
   "cell_type": "markdown",
   "metadata": {},
   "source": [
    "## GridSearchCV для Логистической регрессии "
   ]
  },
  {
   "cell_type": "code",
   "execution_count": 15,
   "metadata": {},
   "outputs": [
    {
     "name": "stdout",
     "output_type": "stream",
     "text": [
      "CPU times: total: 359 ms\n",
      "Wall time: 48.1 s\n",
      "accuracy на тестовом наборе: 0.75\n",
      "f1_score на тестовом наборе: 0.78\n",
      "Наилучшие значения гиперпараметров: {'penalty': 'l2', 'solver': 'lbfgs'}\n"
     ]
    }
   ],
   "source": [
    "param_grid = {'penalty': ['l2', None] ,#тип регурялизации\n",
    "              'solver': ['lbfgs', 'saga'], #алгоритм оптимизации\n",
    "              }\n",
    "grid_search = GridSearchCV(\n",
    "    estimator=linear_model.LogisticRegression(\n",
    "        random_state=42, #генератор случайных чисел\n",
    "        max_iter=1000 #количество итераций на сходимость\n",
    "    ), \n",
    "    param_grid=param_grid, \n",
    "    cv=5, \n",
    "    n_jobs = -1\n",
    ")  \n",
    "%time grid_search.fit(X_train_scaled, y_train) \n",
    "print(\"accuracy на тестовом наборе: {:.2f}\".format(grid_search.score(X_test_scaled, y_test)))\n",
    "y_test_pred = grid_search.predict(X_test_scaled)\n",
    "print('f1_score на тестовом наборе: {:.2f}'.format(metrics.f1_score(y_test, y_test_pred)))\n",
    "print(\"Наилучшие значения гиперпараметров: {}\".format(grid_search.best_params_))"
   ]
  },
  {
   "cell_type": "markdown",
   "metadata": {},
   "source": []
  },
  {
   "cell_type": "markdown",
   "metadata": {},
   "source": [
    "## GridSearchCV для Случайного леса"
   ]
  },
  {
   "cell_type": "code",
   "execution_count": 16,
   "metadata": {},
   "outputs": [
    {
     "name": "stdout",
     "output_type": "stream",
     "text": [
      "CPU times: total: 3.48 s\n",
      "Wall time: 1min 31s\n",
      "accuracy на тестовом наборе: 0.80\n",
      "f1_score на тестовом наборе: 0.82\n",
      "Наилучшие значения гиперпараметров: {'max_depth': 30, 'min_samples_leaf': 2, 'min_samples_split': 2, 'n_estimators': 200}\n"
     ]
    }
   ],
   "source": [
    "# Определение сетки гиперпараметров для случайного леса\n",
    "param_grid_rf = {\n",
    "    'n_estimators': [10, 50, 100, 200], # количество деревьев\n",
    "    'max_depth': [None, 10, 20, 30], # максимальная глубина дерева\n",
    "    'min_samples_split': [2, 5, 10], # минимальное количество образцов, необходимое для разделения узла\n",
    "    'min_samples_leaf': [1, 2, 4] # минимальное количество образцов, необходимое в листе\n",
    "}\n",
    "\n",
    "# Создание объекта GridSearchCV\n",
    "grid_search_rf = GridSearchCV(\n",
    "    estimator=RandomForestClassifier(random_state=42),\n",
    "    param_grid=param_grid_rf,\n",
    "    cv=5,\n",
    "    n_jobs=-1\n",
    ")\n",
    "\n",
    "# Обучение GridSearchCV\n",
    "%time grid_search_rf.fit(X_train_scaled, y_train)\n",
    "\n",
    "# Вывод результатов\n",
    "print(\"accuracy на тестовом наборе: {:.2f}\".format(grid_search_rf.score(X_test_scaled, y_test)))\n",
    "y_test_pred_rf = grid_search_rf.predict(X_test_scaled)\n",
    "print('f1_score на тестовом наборе: {:.2f}'.format(metrics.f1_score(y_test, y_test_pred_rf)))\n",
    "print(\"Наилучшие значения гиперпараметров: {}\".format(grid_search_rf.best_params_))"
   ]
  },
  {
   "cell_type": "markdown",
   "metadata": {},
   "source": []
  },
  {
   "cell_type": "markdown",
   "metadata": {},
   "source": [
    "## Hiperopt для Логистической регрессии "
   ]
  },
  {
   "cell_type": "code",
   "execution_count": 17,
   "metadata": {},
   "outputs": [],
   "source": [
    "# зададим пространство поиска гиперпараметров\n",
    "space={'n_estimators': hp.quniform('n_estimators', 100, 200, 1),\n",
    "       'max_depth' : hp.quniform('max_depth', 15, 26, 1),\n",
    "       'min_samples_leaf': hp.quniform('min_samples_leaf', 2, 10, 1)\n",
    "      }"
   ]
  },
  {
   "cell_type": "code",
   "execution_count": 18,
   "metadata": {},
   "outputs": [],
   "source": [
    "# зафксируем random_state\n",
    "random_state = 42\n",
    "def hyperopt_rf(params, cv=5, X=X_train_scaled, y=y_train, random_state=random_state):\n",
    "    # функция получает комбинацию гиперпараметров в \"params\"\n",
    "    params = {'n_estimators': int(params['n_estimators']), \n",
    "              'max_depth': int(params['max_depth']), \n",
    "             'min_samples_leaf': int(params['min_samples_leaf'])\n",
    "              }\n",
    "  \n",
    "    # используем эту комбинацию для построения модели\n",
    "    model = ensemble.RandomForestClassifier(**params, random_state=random_state)\n",
    "\n",
    "   \n",
    "    \n",
    "    # применим  cross validation с тем же количеством фолдов\n",
    "    score = cross_val_score(model, X, y, cv=cv, scoring=\"f1\", n_jobs=-1).mean()\n",
    "\n",
    "    # метрику необходимо минимизировать, поэтому ставим знак минус\n",
    "    return -score"
   ]
  },
  {
   "cell_type": "code",
   "execution_count": 19,
   "metadata": {},
   "outputs": [
    {
     "name": "stdout",
     "output_type": "stream",
     "text": [
      "100%|██████████| 20/20 [00:27<00:00,  1.36s/trial, best loss: -0.8078165644270239]\n",
      "Наилучшие значения гиперпараметров {'max_depth': 18.0, 'min_samples_leaf': 2.0, 'n_estimators': 103.0}\n",
      "f1_score на обучающем наборе: 0.99\n",
      "accuracy на тестовом наборе: 0.80\n",
      "f1_score на тестовом наборе: 0.82\n",
      "CPU times: total: 1 s\n",
      "Wall time: 28.3 s\n"
     ]
    }
   ],
   "source": [
    "%%time\n",
    "# начинаем подбор гиперпараметров\n",
    "\n",
    "trials = Trials() # используется для логирования результатов\n",
    "\n",
    "best=fmin(hyperopt_rf, # наша функция \n",
    "          space=space, # пространство гиперпараметров\n",
    "          algo=tpe.suggest, # алгоритм оптимизации, установлен по умолчанию, задавать необязательно\n",
    "          max_evals=20, # максимальное количество итераций\n",
    "          trials=trials, # логирование результатов\n",
    "          rstate=np.random.default_rng(random_state) # фиксируем для повторяемости результата\n",
    "         )\n",
    "print(\"Наилучшие значения гиперпараметров {}\".format(best))\n",
    "\n",
    "\n",
    "# рассчитаем точность для тестовой выборки\n",
    "model = ensemble.RandomForestClassifier(\n",
    "    random_state=random_state, \n",
    "    n_estimators=int(best['n_estimators']),\n",
    "    max_depth=int(best['max_depth']),\n",
    "    min_samples_leaf=int(best['min_samples_leaf'])\n",
    ")\n",
    "model.fit(X_train_scaled, y_train)\n",
    "y_train_pred = model.predict(X_train_scaled)\n",
    "print('f1_score на обучающем наборе: {:.2f}'.format(metrics.f1_score(y_train, y_train_pred)))\n",
    "print(\"accuracy на тестовом наборе: {:.2f}\".format(model.score(X_test_scaled, y_test)))\n",
    "y_test_pred = model.predict(X_test_scaled)\n",
    "print('f1_score на тестовом наборе: {:.2f}'.format(metrics.f1_score(y_test, y_test_pred)))"
   ]
  },
  {
   "cell_type": "markdown",
   "metadata": {},
   "source": []
  },
  {
   "cell_type": "markdown",
   "metadata": {},
   "source": [
    "## Hiperopt для Случайного леса"
   ]
  },
  {
   "cell_type": "code",
   "execution_count": 20,
   "metadata": {},
   "outputs": [],
   "source": [
    "# Задаем пространство поиска гиперпараметров\n",
    "space = {\n",
    "    'n_estimators': hp.quniform('n_estimators', 100, 200, 1),\n",
    "    'max_depth': hp.quniform('max_depth', 15, 26, 1),\n",
    "    'min_samples_leaf': hp.quniform('min_samples_leaf', 2, 10, 1)\n",
    "}\n",
    "\n",
    "# Фиксируем random_state\n",
    "random_state = 42\n",
    "\n",
    "# Функция для оптимизации гиперпараметров\n",
    "def hyperopt_rf(params, cv=5, X=X_train_scaled, y=y_train, random_state=random_state):\n",
    "    # Преобразуем параметры в целые числа\n",
    "    params = {\n",
    "        'n_estimators': int(params['n_estimators']),\n",
    "        'max_depth': int(params['max_depth']),\n",
    "        'min_samples_leaf': int(params['min_samples_leaf'])\n",
    "    }\n",
    "    # Строим модель с текущими параметрами\n",
    "    model = RandomForestClassifier(**params, random_state=random_state)\n",
    "    # Применяем кросс-валидацию\n",
    "    score = cross_val_score(model, X, y, cv=cv, scoring=\"f1\", n_jobs=-1).mean()\n",
    "    # Возвращаем отрицательное значение метрики, так как Hyperopt минимизирует функцию\n",
    "    return {'loss': -score, 'status': STATUS_OK}\n",
    "\n"
   ]
  },
  {
   "cell_type": "code",
   "execution_count": 21,
   "metadata": {},
   "outputs": [
    {
     "name": "stdout",
     "output_type": "stream",
     "text": [
      "100%|██████████| 20/20 [00:27<00:00,  1.36s/trial, best loss: -0.8078165644270239]\n",
      "Наилучшие значения гиперпараметров:  {'max_depth': 18.0, 'min_samples_leaf': 2.0, 'n_estimators': 103.0}\n",
      "f1_score на обучающем наборе: 0.99\n",
      "accuracy на тестовом наборе: 0.80\n",
      "f1_score на тестовом наборе: 0.82\n"
     ]
    }
   ],
   "source": [
    "# Начинаем подбор гиперпараметров\n",
    "trials = Trials()\n",
    "best = fmin(\n",
    "    fn=hyperopt_rf,\n",
    "    space=space,\n",
    "    algo=tpe.suggest,\n",
    "    max_evals=20,\n",
    "    trials=trials,\n",
    "    rstate=np.random.default_rng(random_state)\n",
    ")\n",
    "\n",
    "print(\"Наилучшие значения гиперпараметров: \", best)\n",
    "\n",
    "# Рассчитываем точность для тестовой выборки\n",
    "model = RandomForestClassifier(\n",
    "    random_state=random_state,\n",
    "    n_estimators=int(best['n_estimators']),\n",
    "    max_depth=int(best['max_depth']),\n",
    "    min_samples_leaf=int(best['min_samples_leaf'])\n",
    ")\n",
    "model.fit(X_train_scaled, y_train)\n",
    "y_train_pred = model.predict(X_train_scaled)\n",
    "print('f1_score на обучающем наборе: {:.2f}'.format(metrics.f1_score(y_train, y_train_pred)))\n",
    "print(\"accuracy на тестовом наборе: {:.2f}\".format(model.score(X_test_scaled, y_test)))\n",
    "y_test_pred = model.predict(X_test_scaled)\n",
    "print('f1_score на тестовом наборе: {:.2f}'.format(metrics.f1_score(y_test, y_test_pred)))"
   ]
  },
  {
   "cell_type": "markdown",
   "metadata": {},
   "source": []
  },
  {
   "cell_type": "markdown",
   "metadata": {},
   "source": [
    "## Optuna для Логистической регрессии "
   ]
  },
  {
   "cell_type": "code",
   "execution_count": 22,
   "metadata": {},
   "outputs": [],
   "source": [
    "\n",
    "# Функция для оптимизации гиперпараметров логистической регрессии\n",
    "def optuna_lr(trial):\n",
    "    # Задаем пространства поиска гиперпараметров\n",
    "    C = trial.suggest_loguniform('C', 1e-3, 1e3)\n",
    "    penalty = trial.suggest_categorical('penalty', ['l1', 'l2'])\n",
    "    solver = trial.suggest_categorical('solver', ['liblinear', 'saga'])\n",
    "\n",
    "    # Создаем модель с текущими параметрами\n",
    "    model = linear_model.LogisticRegression(C=C, penalty=penalty, solver=solver, random_state=random_state, max_iter=50)\n",
    "\n",
    "    # Обучаем модель\n",
    "    model.fit(X_train_scaled, y_train)\n",
    "    score = metrics.f1_score(y_train, model.predict(X_train_scaled))\n",
    "\n",
    "    return score\n",
    "\n"
   ]
  },
  {
   "cell_type": "code",
   "execution_count": 23,
   "metadata": {},
   "outputs": [
    {
     "name": "stderr",
     "output_type": "stream",
     "text": [
      "[I 2024-04-17 21:08:06,097] A new study created in memory with name: LogisticRegression\n",
      "C:\\Users\\mazur\\AppData\\Local\\Temp\\ipykernel_34312\\1176825241.py:4: FutureWarning: suggest_loguniform has been deprecated in v3.0.0. This feature will be removed in v6.0.0. See https://github.com/optuna/optuna/releases/tag/v3.0.0. Use suggest_float(..., log=True) instead.\n",
      "  C = trial.suggest_loguniform('C', 1e-3, 1e3)\n",
      "[I 2024-04-17 21:08:06,340] Trial 0 finished with value: 0.8527272727272728 and parameters: {'C': 0.5314886793956466, 'penalty': 'l1', 'solver': 'liblinear'}. Best is trial 0 with value: 0.8527272727272728.\n",
      "C:\\Users\\mazur\\AppData\\Local\\Temp\\ipykernel_34312\\1176825241.py:4: FutureWarning: suggest_loguniform has been deprecated in v3.0.0. This feature will be removed in v6.0.0. See https://github.com/optuna/optuna/releases/tag/v3.0.0. Use suggest_float(..., log=True) instead.\n",
      "  C = trial.suggest_loguniform('C', 1e-3, 1e3)\n",
      "[I 2024-04-17 21:08:07,369] Trial 1 finished with value: 0.9010719754977029 and parameters: {'C': 2.3297306311727106, 'penalty': 'l1', 'solver': 'liblinear'}. Best is trial 1 with value: 0.9010719754977029.\n",
      "C:\\Users\\mazur\\AppData\\Local\\Temp\\ipykernel_34312\\1176825241.py:4: FutureWarning: suggest_loguniform has been deprecated in v3.0.0. This feature will be removed in v6.0.0. See https://github.com/optuna/optuna/releases/tag/v3.0.0. Use suggest_float(..., log=True) instead.\n",
      "  C = trial.suggest_loguniform('C', 1e-3, 1e3)\n",
      "c:\\Users\\mazur\\AppData\\Local\\Programs\\Python\\Python311\\Lib\\site-packages\\sklearn\\linear_model\\_sag.py:350: ConvergenceWarning: The max_iter was reached which means the coef_ did not converge\n",
      "  warnings.warn(\n",
      "[I 2024-04-17 21:08:09,575] Trial 2 finished with value: 0.8254830917874396 and parameters: {'C': 0.30386457578310894, 'penalty': 'l1', 'solver': 'saga'}. Best is trial 1 with value: 0.9010719754977029.\n",
      "C:\\Users\\mazur\\AppData\\Local\\Temp\\ipykernel_34312\\1176825241.py:4: FutureWarning: suggest_loguniform has been deprecated in v3.0.0. This feature will be removed in v6.0.0. See https://github.com/optuna/optuna/releases/tag/v3.0.0. Use suggest_float(..., log=True) instead.\n",
      "  C = trial.suggest_loguniform('C', 1e-3, 1e3)\n",
      "c:\\Users\\mazur\\AppData\\Local\\Programs\\Python\\Python311\\Lib\\site-packages\\sklearn\\svm\\_base.py:1237: ConvergenceWarning: Liblinear failed to converge, increase the number of iterations.\n",
      "  warnings.warn(\n",
      "[I 2024-04-17 21:08:26,706] Trial 3 finished with value: 0.9981561155500922 and parameters: {'C': 475.45308823693057, 'penalty': 'l1', 'solver': 'liblinear'}. Best is trial 3 with value: 0.9981561155500922.\n",
      "C:\\Users\\mazur\\AppData\\Local\\Temp\\ipykernel_34312\\1176825241.py:4: FutureWarning: suggest_loguniform has been deprecated in v3.0.0. This feature will be removed in v6.0.0. See https://github.com/optuna/optuna/releases/tag/v3.0.0. Use suggest_float(..., log=True) instead.\n",
      "  C = trial.suggest_loguniform('C', 1e-3, 1e3)\n",
      "[I 2024-04-17 21:08:27,532] Trial 4 finished with value: 0.7513327061774852 and parameters: {'C': 0.011143085107316023, 'penalty': 'l1', 'solver': 'saga'}. Best is trial 3 with value: 0.9981561155500922.\n",
      "C:\\Users\\mazur\\AppData\\Local\\Temp\\ipykernel_34312\\1176825241.py:4: FutureWarning: suggest_loguniform has been deprecated in v3.0.0. This feature will be removed in v6.0.0. See https://github.com/optuna/optuna/releases/tag/v3.0.0. Use suggest_float(..., log=True) instead.\n",
      "  C = trial.suggest_loguniform('C', 1e-3, 1e3)\n",
      "[I 2024-04-17 21:08:27,604] Trial 5 finished with value: 0.7513327061774852 and parameters: {'C': 0.008888800413258126, 'penalty': 'l1', 'solver': 'liblinear'}. Best is trial 3 with value: 0.9981561155500922.\n",
      "C:\\Users\\mazur\\AppData\\Local\\Temp\\ipykernel_34312\\1176825241.py:4: FutureWarning: suggest_loguniform has been deprecated in v3.0.0. This feature will be removed in v6.0.0. See https://github.com/optuna/optuna/releases/tag/v3.0.0. Use suggest_float(..., log=True) instead.\n",
      "  C = trial.suggest_loguniform('C', 1e-3, 1e3)\n",
      "c:\\Users\\mazur\\AppData\\Local\\Programs\\Python\\Python311\\Lib\\site-packages\\sklearn\\linear_model\\_sag.py:350: ConvergenceWarning: The max_iter was reached which means the coef_ did not converge\n",
      "  warnings.warn(\n",
      "[I 2024-04-17 21:08:29,228] Trial 6 finished with value: 0.8648978347057029 and parameters: {'C': 128.06272011809844, 'penalty': 'l2', 'solver': 'saga'}. Best is trial 3 with value: 0.9981561155500922.\n",
      "C:\\Users\\mazur\\AppData\\Local\\Temp\\ipykernel_34312\\1176825241.py:4: FutureWarning: suggest_loguniform has been deprecated in v3.0.0. This feature will be removed in v6.0.0. See https://github.com/optuna/optuna/releases/tag/v3.0.0. Use suggest_float(..., log=True) instead.\n",
      "  C = trial.suggest_loguniform('C', 1e-3, 1e3)\n",
      "[I 2024-04-17 21:08:29,380] Trial 7 finished with value: 0.8593179049939099 and parameters: {'C': 0.1448243934445362, 'penalty': 'l2', 'solver': 'liblinear'}. Best is trial 3 with value: 0.9981561155500922.\n",
      "C:\\Users\\mazur\\AppData\\Local\\Temp\\ipykernel_34312\\1176825241.py:4: FutureWarning: suggest_loguniform has been deprecated in v3.0.0. This feature will be removed in v6.0.0. See https://github.com/optuna/optuna/releases/tag/v3.0.0. Use suggest_float(..., log=True) instead.\n",
      "  C = trial.suggest_loguniform('C', 1e-3, 1e3)\n",
      "c:\\Users\\mazur\\AppData\\Local\\Programs\\Python\\Python311\\Lib\\site-packages\\sklearn\\linear_model\\_sag.py:350: ConvergenceWarning: The max_iter was reached which means the coef_ did not converge\n",
      "  warnings.warn(\n",
      "[I 2024-04-17 21:08:31,677] Trial 8 finished with value: 0.8648978347057029 and parameters: {'C': 10.09394580336378, 'penalty': 'l1', 'solver': 'saga'}. Best is trial 3 with value: 0.9981561155500922.\n",
      "C:\\Users\\mazur\\AppData\\Local\\Temp\\ipykernel_34312\\1176825241.py:4: FutureWarning: suggest_loguniform has been deprecated in v3.0.0. This feature will be removed in v6.0.0. See https://github.com/optuna/optuna/releases/tag/v3.0.0. Use suggest_float(..., log=True) instead.\n",
      "  C = trial.suggest_loguniform('C', 1e-3, 1e3)\n",
      "c:\\Users\\mazur\\AppData\\Local\\Programs\\Python\\Python311\\Lib\\site-packages\\sklearn\\linear_model\\_sag.py:350: ConvergenceWarning: The max_iter was reached which means the coef_ did not converge\n",
      "  warnings.warn(\n",
      "[I 2024-04-17 21:08:33,306] Trial 9 finished with value: 0.8648978347057029 and parameters: {'C': 70.73846160503835, 'penalty': 'l2', 'solver': 'saga'}. Best is trial 3 with value: 0.9981561155500922.\n",
      "C:\\Users\\mazur\\AppData\\Local\\Temp\\ipykernel_34312\\1176825241.py:4: FutureWarning: suggest_loguniform has been deprecated in v3.0.0. This feature will be removed in v6.0.0. See https://github.com/optuna/optuna/releases/tag/v3.0.0. Use suggest_float(..., log=True) instead.\n",
      "  C = trial.suggest_loguniform('C', 1e-3, 1e3)\n",
      "c:\\Users\\mazur\\AppData\\Local\\Programs\\Python\\Python311\\Lib\\site-packages\\sklearn\\svm\\_base.py:1237: ConvergenceWarning: Liblinear failed to converge, increase the number of iterations.\n",
      "  warnings.warn(\n",
      "[I 2024-04-17 21:08:34,195] Trial 10 finished with value: 0.9512419503219871 and parameters: {'C': 343.2147596616687, 'penalty': 'l2', 'solver': 'liblinear'}. Best is trial 3 with value: 0.9981561155500922.\n",
      "C:\\Users\\mazur\\AppData\\Local\\Temp\\ipykernel_34312\\1176825241.py:4: FutureWarning: suggest_loguniform has been deprecated in v3.0.0. This feature will be removed in v6.0.0. See https://github.com/optuna/optuna/releases/tag/v3.0.0. Use suggest_float(..., log=True) instead.\n",
      "  C = trial.suggest_loguniform('C', 1e-3, 1e3)\n",
      "c:\\Users\\mazur\\AppData\\Local\\Programs\\Python\\Python311\\Lib\\site-packages\\sklearn\\svm\\_base.py:1237: ConvergenceWarning: Liblinear failed to converge, increase the number of iterations.\n",
      "  warnings.warn(\n",
      "[I 2024-04-17 21:08:35,107] Trial 11 finished with value: 0.9524101934295364 and parameters: {'C': 466.7802158161914, 'penalty': 'l2', 'solver': 'liblinear'}. Best is trial 3 with value: 0.9981561155500922.\n",
      "C:\\Users\\mazur\\AppData\\Local\\Temp\\ipykernel_34312\\1176825241.py:4: FutureWarning: suggest_loguniform has been deprecated in v3.0.0. This feature will be removed in v6.0.0. See https://github.com/optuna/optuna/releases/tag/v3.0.0. Use suggest_float(..., log=True) instead.\n",
      "  C = trial.suggest_loguniform('C', 1e-3, 1e3)\n",
      "c:\\Users\\mazur\\AppData\\Local\\Programs\\Python\\Python311\\Lib\\site-packages\\sklearn\\svm\\_base.py:1237: ConvergenceWarning: Liblinear failed to converge, increase the number of iterations.\n",
      "  warnings.warn(\n",
      "[I 2024-04-17 21:08:36,012] Trial 12 finished with value: 0.9536383174700644 and parameters: {'C': 652.2219493897301, 'penalty': 'l2', 'solver': 'liblinear'}. Best is trial 3 with value: 0.9981561155500922.\n",
      "C:\\Users\\mazur\\AppData\\Local\\Temp\\ipykernel_34312\\1176825241.py:4: FutureWarning: suggest_loguniform has been deprecated in v3.0.0. This feature will be removed in v6.0.0. See https://github.com/optuna/optuna/releases/tag/v3.0.0. Use suggest_float(..., log=True) instead.\n",
      "  C = trial.suggest_loguniform('C', 1e-3, 1e3)\n",
      "[I 2024-04-17 21:08:36,811] Trial 13 finished with value: 0.9423666462293072 and parameters: {'C': 22.552424673781758, 'penalty': 'l2', 'solver': 'liblinear'}. Best is trial 3 with value: 0.9981561155500922.\n",
      "C:\\Users\\mazur\\AppData\\Local\\Temp\\ipykernel_34312\\1176825241.py:4: FutureWarning: suggest_loguniform has been deprecated in v3.0.0. This feature will be removed in v6.0.0. See https://github.com/optuna/optuna/releases/tag/v3.0.0. Use suggest_float(..., log=True) instead.\n",
      "  C = trial.suggest_loguniform('C', 1e-3, 1e3)\n",
      "c:\\Users\\mazur\\AppData\\Local\\Programs\\Python\\Python311\\Lib\\site-packages\\sklearn\\svm\\_base.py:1237: ConvergenceWarning: Liblinear failed to converge, increase the number of iterations.\n",
      "  warnings.warn(\n",
      "[I 2024-04-17 21:08:53,089] Trial 14 finished with value: 0.9984639016897081 and parameters: {'C': 639.242253433864, 'penalty': 'l1', 'solver': 'liblinear'}. Best is trial 14 with value: 0.9984639016897081.\n",
      "C:\\Users\\mazur\\AppData\\Local\\Temp\\ipykernel_34312\\1176825241.py:4: FutureWarning: suggest_loguniform has been deprecated in v3.0.0. This feature will be removed in v6.0.0. See https://github.com/optuna/optuna/releases/tag/v3.0.0. Use suggest_float(..., log=True) instead.\n",
      "  C = trial.suggest_loguniform('C', 1e-3, 1e3)\n",
      "[I 2024-04-17 21:08:55,266] Trial 15 finished with value: 0.9323538414447505 and parameters: {'C': 6.334799907164734, 'penalty': 'l1', 'solver': 'liblinear'}. Best is trial 14 with value: 0.9984639016897081.\n",
      "C:\\Users\\mazur\\AppData\\Local\\Temp\\ipykernel_34312\\1176825241.py:4: FutureWarning: suggest_loguniform has been deprecated in v3.0.0. This feature will be removed in v6.0.0. See https://github.com/optuna/optuna/releases/tag/v3.0.0. Use suggest_float(..., log=True) instead.\n",
      "  C = trial.suggest_loguniform('C', 1e-3, 1e3)\n",
      "[I 2024-04-17 21:09:01,682] Trial 16 finished with value: 0.9865196078431373 and parameters: {'C': 72.18612172663711, 'penalty': 'l1', 'solver': 'liblinear'}. Best is trial 14 with value: 0.9984639016897081.\n",
      "C:\\Users\\mazur\\AppData\\Local\\Temp\\ipykernel_34312\\1176825241.py:4: FutureWarning: suggest_loguniform has been deprecated in v3.0.0. This feature will be removed in v6.0.0. See https://github.com/optuna/optuna/releases/tag/v3.0.0. Use suggest_float(..., log=True) instead.\n",
      "  C = trial.suggest_loguniform('C', 1e-3, 1e3)\n",
      "[I 2024-04-17 21:09:01,761] Trial 17 finished with value: 0.7812688821752266 and parameters: {'C': 0.05955898592576691, 'penalty': 'l1', 'solver': 'liblinear'}. Best is trial 14 with value: 0.9984639016897081.\n",
      "C:\\Users\\mazur\\AppData\\Local\\Temp\\ipykernel_34312\\1176825241.py:4: FutureWarning: suggest_loguniform has been deprecated in v3.0.0. This feature will be removed in v6.0.0. See https://github.com/optuna/optuna/releases/tag/v3.0.0. Use suggest_float(..., log=True) instead.\n",
      "  C = trial.suggest_loguniform('C', 1e-3, 1e3)\n",
      "[I 2024-04-17 21:09:01,828] Trial 18 finished with value: 0.0 and parameters: {'C': 0.002220532950557645, 'penalty': 'l1', 'solver': 'liblinear'}. Best is trial 14 with value: 0.9984639016897081.\n",
      "C:\\Users\\mazur\\AppData\\Local\\Temp\\ipykernel_34312\\1176825241.py:4: FutureWarning: suggest_loguniform has been deprecated in v3.0.0. This feature will be removed in v6.0.0. See https://github.com/optuna/optuna/releases/tag/v3.0.0. Use suggest_float(..., log=True) instead.\n",
      "  C = trial.suggest_loguniform('C', 1e-3, 1e3)\n",
      "c:\\Users\\mazur\\AppData\\Local\\Programs\\Python\\Python311\\Lib\\site-packages\\sklearn\\svm\\_base.py:1237: ConvergenceWarning: Liblinear failed to converge, increase the number of iterations.\n",
      "  warnings.warn(\n",
      "[I 2024-04-17 21:09:15,852] Trial 19 finished with value: 0.9981572481572482 and parameters: {'C': 858.8079071225616, 'penalty': 'l1', 'solver': 'liblinear'}. Best is trial 14 with value: 0.9984639016897081.\n"
     ]
    },
    {
     "name": "stdout",
     "output_type": "stream",
     "text": [
      "CPU times: total: 56.3 s\n",
      "Wall time: 1min 9s\n"
     ]
    }
   ],
   "source": [
    "%%time\n",
    "# cоздаем объект исследования\n",
    "# можем напрямую указать, что нам необходимо максимизировать метрику direction=\"maximize\"\n",
    "study = optuna.create_study(study_name=\"LogisticRegression\", direction=\"maximize\")\n",
    "# ищем лучшую комбинацию гиперпараметров n_trials раз\n",
    "study.optimize(optuna_lr, n_trials=20)"
   ]
  },
  {
   "cell_type": "code",
   "execution_count": 24,
   "metadata": {},
   "outputs": [
    {
     "name": "stdout",
     "output_type": "stream",
     "text": [
      "Наилучшие значения гиперпараметров {'C': 639.242253433864, 'penalty': 'l1', 'solver': 'liblinear'}\n",
      "f1_score на обучающем наборе: 1.00\n"
     ]
    }
   ],
   "source": [
    "# Выводим результаты на обучающей выборке\n",
    "print(\"Наилучшие значения гиперпараметров {}\".format(study.best_params))\n",
    "print(\"f1_score на обучающем наборе: {:.2f}\".format(study.best_value))"
   ]
  },
  {
   "cell_type": "code",
   "execution_count": 25,
   "metadata": {},
   "outputs": [
    {
     "name": "stdout",
     "output_type": "stream",
     "text": [
      "accuracy на тестовом наборе: 0.72\n",
      "f1_score на тестовом наборе: 0.75\n"
     ]
    },
    {
     "name": "stderr",
     "output_type": "stream",
     "text": [
      "c:\\Users\\mazur\\AppData\\Local\\Programs\\Python\\Python311\\Lib\\site-packages\\sklearn\\svm\\_base.py:1237: ConvergenceWarning: Liblinear failed to converge, increase the number of iterations.\n",
      "  warnings.warn(\n"
     ]
    }
   ],
   "source": [
    "# Рассчитаем точность для тестовой выборки\n",
    "model = linear_model.LogisticRegression(**study.best_params, random_state=random_state, max_iter=1000)\n",
    "model.fit(X_train_scaled, y_train)\n",
    "y_train_pred = model.predict(X_train_scaled)\n",
    "print(\"accuracy на тестовом наборе: {:.2f}\".format(model.score(X_test_scaled, y_test)))\n",
    "y_test_pred = model.predict(X_test_scaled)\n",
    "print('f1_score на тестовом наборе: {:.2f}'.format(metrics.f1_score(y_test, y_test_pred)))"
   ]
  },
  {
   "cell_type": "code",
   "execution_count": 27,
   "metadata": {},
   "outputs": [
    {
     "data": {
      "application/vnd.plotly.v1+json": {
       "config": {
        "plotlyServerURL": "https://plot.ly"
       },
       "data": [
        {
         "mode": "markers",
         "name": "f1_score",
         "type": "scatter",
         "x": [
          0,
          1,
          2,
          3,
          4,
          5,
          6,
          7,
          8,
          9,
          10,
          11,
          12,
          13,
          14,
          15,
          16,
          17,
          18,
          19
         ],
         "y": [
          0.8527272727272728,
          0.9010719754977029,
          0.8254830917874396,
          0.9981561155500922,
          0.7513327061774852,
          0.7513327061774852,
          0.8648978347057029,
          0.8593179049939099,
          0.8648978347057029,
          0.8648978347057029,
          0.9512419503219871,
          0.9524101934295364,
          0.9536383174700644,
          0.9423666462293072,
          0.9984639016897081,
          0.9323538414447505,
          0.9865196078431373,
          0.7812688821752266,
          0,
          0.9981572481572482
         ]
        },
        {
         "mode": "lines",
         "name": "Best Value",
         "type": "scatter",
         "x": [
          0,
          1,
          2,
          3,
          4,
          5,
          6,
          7,
          8,
          9,
          10,
          11,
          12,
          13,
          14,
          15,
          16,
          17,
          18,
          19
         ],
         "y": [
          0.8527272727272728,
          0.9010719754977029,
          0.9010719754977029,
          0.9981561155500922,
          0.9981561155500922,
          0.9981561155500922,
          0.9981561155500922,
          0.9981561155500922,
          0.9981561155500922,
          0.9981561155500922,
          0.9981561155500922,
          0.9981561155500922,
          0.9981561155500922,
          0.9981561155500922,
          0.9984639016897081,
          0.9984639016897081,
          0.9984639016897081,
          0.9984639016897081,
          0.9984639016897081,
          0.9984639016897081
         ]
        },
        {
         "marker": {
          "color": "#cccccc"
         },
         "mode": "markers",
         "name": "Infeasible Trial",
         "showlegend": false,
         "type": "scatter",
         "x": [],
         "y": []
        }
       ],
       "layout": {
        "template": {
         "data": {
          "bar": [
           {
            "error_x": {
             "color": "#2a3f5f"
            },
            "error_y": {
             "color": "#2a3f5f"
            },
            "marker": {
             "line": {
              "color": "#E5ECF6",
              "width": 0.5
             },
             "pattern": {
              "fillmode": "overlay",
              "size": 10,
              "solidity": 0.2
             }
            },
            "type": "bar"
           }
          ],
          "barpolar": [
           {
            "marker": {
             "line": {
              "color": "#E5ECF6",
              "width": 0.5
             },
             "pattern": {
              "fillmode": "overlay",
              "size": 10,
              "solidity": 0.2
             }
            },
            "type": "barpolar"
           }
          ],
          "carpet": [
           {
            "aaxis": {
             "endlinecolor": "#2a3f5f",
             "gridcolor": "white",
             "linecolor": "white",
             "minorgridcolor": "white",
             "startlinecolor": "#2a3f5f"
            },
            "baxis": {
             "endlinecolor": "#2a3f5f",
             "gridcolor": "white",
             "linecolor": "white",
             "minorgridcolor": "white",
             "startlinecolor": "#2a3f5f"
            },
            "type": "carpet"
           }
          ],
          "choropleth": [
           {
            "colorbar": {
             "outlinewidth": 0,
             "ticks": ""
            },
            "type": "choropleth"
           }
          ],
          "contour": [
           {
            "colorbar": {
             "outlinewidth": 0,
             "ticks": ""
            },
            "colorscale": [
             [
              0,
              "#0d0887"
             ],
             [
              0.1111111111111111,
              "#46039f"
             ],
             [
              0.2222222222222222,
              "#7201a8"
             ],
             [
              0.3333333333333333,
              "#9c179e"
             ],
             [
              0.4444444444444444,
              "#bd3786"
             ],
             [
              0.5555555555555556,
              "#d8576b"
             ],
             [
              0.6666666666666666,
              "#ed7953"
             ],
             [
              0.7777777777777778,
              "#fb9f3a"
             ],
             [
              0.8888888888888888,
              "#fdca26"
             ],
             [
              1,
              "#f0f921"
             ]
            ],
            "type": "contour"
           }
          ],
          "contourcarpet": [
           {
            "colorbar": {
             "outlinewidth": 0,
             "ticks": ""
            },
            "type": "contourcarpet"
           }
          ],
          "heatmap": [
           {
            "colorbar": {
             "outlinewidth": 0,
             "ticks": ""
            },
            "colorscale": [
             [
              0,
              "#0d0887"
             ],
             [
              0.1111111111111111,
              "#46039f"
             ],
             [
              0.2222222222222222,
              "#7201a8"
             ],
             [
              0.3333333333333333,
              "#9c179e"
             ],
             [
              0.4444444444444444,
              "#bd3786"
             ],
             [
              0.5555555555555556,
              "#d8576b"
             ],
             [
              0.6666666666666666,
              "#ed7953"
             ],
             [
              0.7777777777777778,
              "#fb9f3a"
             ],
             [
              0.8888888888888888,
              "#fdca26"
             ],
             [
              1,
              "#f0f921"
             ]
            ],
            "type": "heatmap"
           }
          ],
          "heatmapgl": [
           {
            "colorbar": {
             "outlinewidth": 0,
             "ticks": ""
            },
            "colorscale": [
             [
              0,
              "#0d0887"
             ],
             [
              0.1111111111111111,
              "#46039f"
             ],
             [
              0.2222222222222222,
              "#7201a8"
             ],
             [
              0.3333333333333333,
              "#9c179e"
             ],
             [
              0.4444444444444444,
              "#bd3786"
             ],
             [
              0.5555555555555556,
              "#d8576b"
             ],
             [
              0.6666666666666666,
              "#ed7953"
             ],
             [
              0.7777777777777778,
              "#fb9f3a"
             ],
             [
              0.8888888888888888,
              "#fdca26"
             ],
             [
              1,
              "#f0f921"
             ]
            ],
            "type": "heatmapgl"
           }
          ],
          "histogram": [
           {
            "marker": {
             "pattern": {
              "fillmode": "overlay",
              "size": 10,
              "solidity": 0.2
             }
            },
            "type": "histogram"
           }
          ],
          "histogram2d": [
           {
            "colorbar": {
             "outlinewidth": 0,
             "ticks": ""
            },
            "colorscale": [
             [
              0,
              "#0d0887"
             ],
             [
              0.1111111111111111,
              "#46039f"
             ],
             [
              0.2222222222222222,
              "#7201a8"
             ],
             [
              0.3333333333333333,
              "#9c179e"
             ],
             [
              0.4444444444444444,
              "#bd3786"
             ],
             [
              0.5555555555555556,
              "#d8576b"
             ],
             [
              0.6666666666666666,
              "#ed7953"
             ],
             [
              0.7777777777777778,
              "#fb9f3a"
             ],
             [
              0.8888888888888888,
              "#fdca26"
             ],
             [
              1,
              "#f0f921"
             ]
            ],
            "type": "histogram2d"
           }
          ],
          "histogram2dcontour": [
           {
            "colorbar": {
             "outlinewidth": 0,
             "ticks": ""
            },
            "colorscale": [
             [
              0,
              "#0d0887"
             ],
             [
              0.1111111111111111,
              "#46039f"
             ],
             [
              0.2222222222222222,
              "#7201a8"
             ],
             [
              0.3333333333333333,
              "#9c179e"
             ],
             [
              0.4444444444444444,
              "#bd3786"
             ],
             [
              0.5555555555555556,
              "#d8576b"
             ],
             [
              0.6666666666666666,
              "#ed7953"
             ],
             [
              0.7777777777777778,
              "#fb9f3a"
             ],
             [
              0.8888888888888888,
              "#fdca26"
             ],
             [
              1,
              "#f0f921"
             ]
            ],
            "type": "histogram2dcontour"
           }
          ],
          "mesh3d": [
           {
            "colorbar": {
             "outlinewidth": 0,
             "ticks": ""
            },
            "type": "mesh3d"
           }
          ],
          "parcoords": [
           {
            "line": {
             "colorbar": {
              "outlinewidth": 0,
              "ticks": ""
             }
            },
            "type": "parcoords"
           }
          ],
          "pie": [
           {
            "automargin": true,
            "type": "pie"
           }
          ],
          "scatter": [
           {
            "fillpattern": {
             "fillmode": "overlay",
             "size": 10,
             "solidity": 0.2
            },
            "type": "scatter"
           }
          ],
          "scatter3d": [
           {
            "line": {
             "colorbar": {
              "outlinewidth": 0,
              "ticks": ""
             }
            },
            "marker": {
             "colorbar": {
              "outlinewidth": 0,
              "ticks": ""
             }
            },
            "type": "scatter3d"
           }
          ],
          "scattercarpet": [
           {
            "marker": {
             "colorbar": {
              "outlinewidth": 0,
              "ticks": ""
             }
            },
            "type": "scattercarpet"
           }
          ],
          "scattergeo": [
           {
            "marker": {
             "colorbar": {
              "outlinewidth": 0,
              "ticks": ""
             }
            },
            "type": "scattergeo"
           }
          ],
          "scattergl": [
           {
            "marker": {
             "colorbar": {
              "outlinewidth": 0,
              "ticks": ""
             }
            },
            "type": "scattergl"
           }
          ],
          "scattermapbox": [
           {
            "marker": {
             "colorbar": {
              "outlinewidth": 0,
              "ticks": ""
             }
            },
            "type": "scattermapbox"
           }
          ],
          "scatterpolar": [
           {
            "marker": {
             "colorbar": {
              "outlinewidth": 0,
              "ticks": ""
             }
            },
            "type": "scatterpolar"
           }
          ],
          "scatterpolargl": [
           {
            "marker": {
             "colorbar": {
              "outlinewidth": 0,
              "ticks": ""
             }
            },
            "type": "scatterpolargl"
           }
          ],
          "scatterternary": [
           {
            "marker": {
             "colorbar": {
              "outlinewidth": 0,
              "ticks": ""
             }
            },
            "type": "scatterternary"
           }
          ],
          "surface": [
           {
            "colorbar": {
             "outlinewidth": 0,
             "ticks": ""
            },
            "colorscale": [
             [
              0,
              "#0d0887"
             ],
             [
              0.1111111111111111,
              "#46039f"
             ],
             [
              0.2222222222222222,
              "#7201a8"
             ],
             [
              0.3333333333333333,
              "#9c179e"
             ],
             [
              0.4444444444444444,
              "#bd3786"
             ],
             [
              0.5555555555555556,
              "#d8576b"
             ],
             [
              0.6666666666666666,
              "#ed7953"
             ],
             [
              0.7777777777777778,
              "#fb9f3a"
             ],
             [
              0.8888888888888888,
              "#fdca26"
             ],
             [
              1,
              "#f0f921"
             ]
            ],
            "type": "surface"
           }
          ],
          "table": [
           {
            "cells": {
             "fill": {
              "color": "#EBF0F8"
             },
             "line": {
              "color": "white"
             }
            },
            "header": {
             "fill": {
              "color": "#C8D4E3"
             },
             "line": {
              "color": "white"
             }
            },
            "type": "table"
           }
          ]
         },
         "layout": {
          "annotationdefaults": {
           "arrowcolor": "#2a3f5f",
           "arrowhead": 0,
           "arrowwidth": 1
          },
          "autotypenumbers": "strict",
          "coloraxis": {
           "colorbar": {
            "outlinewidth": 0,
            "ticks": ""
           }
          },
          "colorscale": {
           "diverging": [
            [
             0,
             "#8e0152"
            ],
            [
             0.1,
             "#c51b7d"
            ],
            [
             0.2,
             "#de77ae"
            ],
            [
             0.3,
             "#f1b6da"
            ],
            [
             0.4,
             "#fde0ef"
            ],
            [
             0.5,
             "#f7f7f7"
            ],
            [
             0.6,
             "#e6f5d0"
            ],
            [
             0.7,
             "#b8e186"
            ],
            [
             0.8,
             "#7fbc41"
            ],
            [
             0.9,
             "#4d9221"
            ],
            [
             1,
             "#276419"
            ]
           ],
           "sequential": [
            [
             0,
             "#0d0887"
            ],
            [
             0.1111111111111111,
             "#46039f"
            ],
            [
             0.2222222222222222,
             "#7201a8"
            ],
            [
             0.3333333333333333,
             "#9c179e"
            ],
            [
             0.4444444444444444,
             "#bd3786"
            ],
            [
             0.5555555555555556,
             "#d8576b"
            ],
            [
             0.6666666666666666,
             "#ed7953"
            ],
            [
             0.7777777777777778,
             "#fb9f3a"
            ],
            [
             0.8888888888888888,
             "#fdca26"
            ],
            [
             1,
             "#f0f921"
            ]
           ],
           "sequentialminus": [
            [
             0,
             "#0d0887"
            ],
            [
             0.1111111111111111,
             "#46039f"
            ],
            [
             0.2222222222222222,
             "#7201a8"
            ],
            [
             0.3333333333333333,
             "#9c179e"
            ],
            [
             0.4444444444444444,
             "#bd3786"
            ],
            [
             0.5555555555555556,
             "#d8576b"
            ],
            [
             0.6666666666666666,
             "#ed7953"
            ],
            [
             0.7777777777777778,
             "#fb9f3a"
            ],
            [
             0.8888888888888888,
             "#fdca26"
            ],
            [
             1,
             "#f0f921"
            ]
           ]
          },
          "colorway": [
           "#636efa",
           "#EF553B",
           "#00cc96",
           "#ab63fa",
           "#FFA15A",
           "#19d3f3",
           "#FF6692",
           "#B6E880",
           "#FF97FF",
           "#FECB52"
          ],
          "font": {
           "color": "#2a3f5f"
          },
          "geo": {
           "bgcolor": "white",
           "lakecolor": "white",
           "landcolor": "#E5ECF6",
           "showlakes": true,
           "showland": true,
           "subunitcolor": "white"
          },
          "hoverlabel": {
           "align": "left"
          },
          "hovermode": "closest",
          "mapbox": {
           "style": "light"
          },
          "paper_bgcolor": "white",
          "plot_bgcolor": "#E5ECF6",
          "polar": {
           "angularaxis": {
            "gridcolor": "white",
            "linecolor": "white",
            "ticks": ""
           },
           "bgcolor": "#E5ECF6",
           "radialaxis": {
            "gridcolor": "white",
            "linecolor": "white",
            "ticks": ""
           }
          },
          "scene": {
           "xaxis": {
            "backgroundcolor": "#E5ECF6",
            "gridcolor": "white",
            "gridwidth": 2,
            "linecolor": "white",
            "showbackground": true,
            "ticks": "",
            "zerolinecolor": "white"
           },
           "yaxis": {
            "backgroundcolor": "#E5ECF6",
            "gridcolor": "white",
            "gridwidth": 2,
            "linecolor": "white",
            "showbackground": true,
            "ticks": "",
            "zerolinecolor": "white"
           },
           "zaxis": {
            "backgroundcolor": "#E5ECF6",
            "gridcolor": "white",
            "gridwidth": 2,
            "linecolor": "white",
            "showbackground": true,
            "ticks": "",
            "zerolinecolor": "white"
           }
          },
          "shapedefaults": {
           "line": {
            "color": "#2a3f5f"
           }
          },
          "ternary": {
           "aaxis": {
            "gridcolor": "white",
            "linecolor": "white",
            "ticks": ""
           },
           "baxis": {
            "gridcolor": "white",
            "linecolor": "white",
            "ticks": ""
           },
           "bgcolor": "#E5ECF6",
           "caxis": {
            "gridcolor": "white",
            "linecolor": "white",
            "ticks": ""
           }
          },
          "title": {
           "x": 0.05
          },
          "xaxis": {
           "automargin": true,
           "gridcolor": "white",
           "linecolor": "white",
           "ticks": "",
           "title": {
            "standoff": 15
           },
           "zerolinecolor": "white",
           "zerolinewidth": 2
          },
          "yaxis": {
           "automargin": true,
           "gridcolor": "white",
           "linecolor": "white",
           "ticks": "",
           "title": {
            "standoff": 15
           },
           "zerolinecolor": "white",
           "zerolinewidth": 2
          }
         }
        },
        "title": {
         "text": "Optimization History Plot"
        },
        "xaxis": {
         "title": {
          "text": "Trial"
         }
        },
        "yaxis": {
         "title": {
          "text": "f1_score"
         }
        }
       }
      }
     },
     "metadata": {},
     "output_type": "display_data"
    }
   ],
   "source": [
    "optuna.visualization.is_available()\n",
    "optuna.visualization.plot_optimization_history(study, target_name=\"f1_score\")"
   ]
  },
  {
   "cell_type": "markdown",
   "metadata": {},
   "source": []
  },
  {
   "cell_type": "markdown",
   "metadata": {},
   "source": [
    "## Optuna для Случайного Леса"
   ]
  },
  {
   "cell_type": "code",
   "execution_count": 31,
   "metadata": {},
   "outputs": [],
   "source": [
    "def optuna_rf(trial):\n",
    "  # задаем пространства поиска гиперпараметров\n",
    "  n_estimators = trial.suggest_int('n_estimators', 100, 200, 1)\n",
    "  max_depth = trial.suggest_int('max_depth', 10, 30, 1)\n",
    "  min_samples_leaf = trial.suggest_int('min_samples_leaf', 2, 10, 1)\n",
    "\n",
    "  # создаем модель\n",
    "  model = ensemble.RandomForestClassifier(n_estimators=n_estimators,\n",
    "                                          max_depth=max_depth,\n",
    "                                          min_samples_leaf=min_samples_leaf,\n",
    "                                          random_state=random_state)\n",
    "  # обучаем модель\n",
    "  model.fit(X_train_scaled, y_train)\n",
    "  score = metrics.f1_score(y_train, model.predict(X_train_scaled))\n",
    "\n",
    "  return score\n",
    "  "
   ]
  },
  {
   "cell_type": "code",
   "execution_count": 32,
   "metadata": {},
   "outputs": [
    {
     "name": "stderr",
     "output_type": "stream",
     "text": [
      "[I 2024-04-17 21:23:32,539] A new study created in memory with name: RandomForestClassifier\n",
      "C:\\Users\\mazur\\AppData\\Local\\Temp\\ipykernel_34312\\2887328027.py:3: FutureWarning:\n",
      "\n",
      "suggest_int() got {'step'} as positional arguments but they were expected to be given as keyword arguments.\n",
      "\n",
      "C:\\Users\\mazur\\AppData\\Local\\Temp\\ipykernel_34312\\2887328027.py:4: FutureWarning:\n",
      "\n",
      "suggest_int() got {'step'} as positional arguments but they were expected to be given as keyword arguments.\n",
      "\n",
      "C:\\Users\\mazur\\AppData\\Local\\Temp\\ipykernel_34312\\2887328027.py:5: FutureWarning:\n",
      "\n",
      "suggest_int() got {'step'} as positional arguments but they were expected to be given as keyword arguments.\n",
      "\n",
      "[I 2024-04-17 21:23:33,614] Trial 0 finished with value: 0.9365614465216059 and parameters: {'n_estimators': 118, 'max_depth': 28, 'min_samples_leaf': 6}. Best is trial 0 with value: 0.9365614465216059.\n",
      "C:\\Users\\mazur\\AppData\\Local\\Temp\\ipykernel_34312\\2887328027.py:3: FutureWarning:\n",
      "\n",
      "suggest_int() got {'step'} as positional arguments but they were expected to be given as keyword arguments.\n",
      "\n",
      "C:\\Users\\mazur\\AppData\\Local\\Temp\\ipykernel_34312\\2887328027.py:4: FutureWarning:\n",
      "\n",
      "suggest_int() got {'step'} as positional arguments but they were expected to be given as keyword arguments.\n",
      "\n",
      "C:\\Users\\mazur\\AppData\\Local\\Temp\\ipykernel_34312\\2887328027.py:5: FutureWarning:\n",
      "\n",
      "suggest_int() got {'step'} as positional arguments but they were expected to be given as keyword arguments.\n",
      "\n",
      "[I 2024-04-17 21:23:34,499] Trial 1 finished with value: 0.9372896910370144 and parameters: {'n_estimators': 107, 'max_depth': 23, 'min_samples_leaf': 6}. Best is trial 1 with value: 0.9372896910370144.\n",
      "C:\\Users\\mazur\\AppData\\Local\\Temp\\ipykernel_34312\\2887328027.py:3: FutureWarning:\n",
      "\n",
      "suggest_int() got {'step'} as positional arguments but they were expected to be given as keyword arguments.\n",
      "\n",
      "C:\\Users\\mazur\\AppData\\Local\\Temp\\ipykernel_34312\\2887328027.py:4: FutureWarning:\n",
      "\n",
      "suggest_int() got {'step'} as positional arguments but they were expected to be given as keyword arguments.\n",
      "\n",
      "C:\\Users\\mazur\\AppData\\Local\\Temp\\ipykernel_34312\\2887328027.py:5: FutureWarning:\n",
      "\n",
      "suggest_int() got {'step'} as positional arguments but they were expected to be given as keyword arguments.\n",
      "\n",
      "[I 2024-04-17 21:23:35,721] Trial 2 finished with value: 0.9045871559633027 and parameters: {'n_estimators': 174, 'max_depth': 15, 'min_samples_leaf': 9}. Best is trial 1 with value: 0.9372896910370144.\n",
      "C:\\Users\\mazur\\AppData\\Local\\Temp\\ipykernel_34312\\2887328027.py:3: FutureWarning:\n",
      "\n",
      "suggest_int() got {'step'} as positional arguments but they were expected to be given as keyword arguments.\n",
      "\n",
      "C:\\Users\\mazur\\AppData\\Local\\Temp\\ipykernel_34312\\2887328027.py:4: FutureWarning:\n",
      "\n",
      "suggest_int() got {'step'} as positional arguments but they were expected to be given as keyword arguments.\n",
      "\n",
      "C:\\Users\\mazur\\AppData\\Local\\Temp\\ipykernel_34312\\2887328027.py:5: FutureWarning:\n",
      "\n",
      "suggest_int() got {'step'} as positional arguments but they were expected to be given as keyword arguments.\n",
      "\n",
      "[I 2024-04-17 21:23:36,741] Trial 3 finished with value: 0.9063167531278609 and parameters: {'n_estimators': 142, 'max_depth': 20, 'min_samples_leaf': 9}. Best is trial 1 with value: 0.9372896910370144.\n",
      "C:\\Users\\mazur\\AppData\\Local\\Temp\\ipykernel_34312\\2887328027.py:3: FutureWarning:\n",
      "\n",
      "suggest_int() got {'step'} as positional arguments but they were expected to be given as keyword arguments.\n",
      "\n",
      "C:\\Users\\mazur\\AppData\\Local\\Temp\\ipykernel_34312\\2887328027.py:4: FutureWarning:\n",
      "\n",
      "suggest_int() got {'step'} as positional arguments but they were expected to be given as keyword arguments.\n",
      "\n",
      "C:\\Users\\mazur\\AppData\\Local\\Temp\\ipykernel_34312\\2887328027.py:5: FutureWarning:\n",
      "\n",
      "suggest_int() got {'step'} as positional arguments but they were expected to be given as keyword arguments.\n",
      "\n",
      "[I 2024-04-17 21:23:37,736] Trial 4 finished with value: 0.899969409605384 and parameters: {'n_estimators': 144, 'max_depth': 13, 'min_samples_leaf': 9}. Best is trial 1 with value: 0.9372896910370144.\n",
      "C:\\Users\\mazur\\AppData\\Local\\Temp\\ipykernel_34312\\2887328027.py:3: FutureWarning:\n",
      "\n",
      "suggest_int() got {'step'} as positional arguments but they were expected to be given as keyword arguments.\n",
      "\n",
      "C:\\Users\\mazur\\AppData\\Local\\Temp\\ipykernel_34312\\2887328027.py:4: FutureWarning:\n",
      "\n",
      "suggest_int() got {'step'} as positional arguments but they were expected to be given as keyword arguments.\n",
      "\n",
      "C:\\Users\\mazur\\AppData\\Local\\Temp\\ipykernel_34312\\2887328027.py:5: FutureWarning:\n",
      "\n",
      "suggest_int() got {'step'} as positional arguments but they were expected to be given as keyword arguments.\n",
      "\n",
      "[I 2024-04-17 21:23:39,218] Trial 5 finished with value: 0.9298621745788668 and parameters: {'n_estimators': 189, 'max_depth': 17, 'min_samples_leaf': 6}. Best is trial 1 with value: 0.9372896910370144.\n",
      "C:\\Users\\mazur\\AppData\\Local\\Temp\\ipykernel_34312\\2887328027.py:3: FutureWarning:\n",
      "\n",
      "suggest_int() got {'step'} as positional arguments but they were expected to be given as keyword arguments.\n",
      "\n",
      "C:\\Users\\mazur\\AppData\\Local\\Temp\\ipykernel_34312\\2887328027.py:4: FutureWarning:\n",
      "\n",
      "suggest_int() got {'step'} as positional arguments but they were expected to be given as keyword arguments.\n",
      "\n",
      "C:\\Users\\mazur\\AppData\\Local\\Temp\\ipykernel_34312\\2887328027.py:5: FutureWarning:\n",
      "\n",
      "suggest_int() got {'step'} as positional arguments but they were expected to be given as keyword arguments.\n",
      "\n",
      "[I 2024-04-17 21:23:40,236] Trial 6 finished with value: 0.977655341291705 and parameters: {'n_estimators': 111, 'max_depth': 30, 'min_samples_leaf': 3}. Best is trial 6 with value: 0.977655341291705.\n",
      "C:\\Users\\mazur\\AppData\\Local\\Temp\\ipykernel_34312\\2887328027.py:3: FutureWarning:\n",
      "\n",
      "suggest_int() got {'step'} as positional arguments but they were expected to be given as keyword arguments.\n",
      "\n",
      "C:\\Users\\mazur\\AppData\\Local\\Temp\\ipykernel_34312\\2887328027.py:4: FutureWarning:\n",
      "\n",
      "suggest_int() got {'step'} as positional arguments but they were expected to be given as keyword arguments.\n",
      "\n",
      "C:\\Users\\mazur\\AppData\\Local\\Temp\\ipykernel_34312\\2887328027.py:5: FutureWarning:\n",
      "\n",
      "suggest_int() got {'step'} as positional arguments but they were expected to be given as keyword arguments.\n",
      "\n",
      "[I 2024-04-17 21:23:41,016] Trial 7 finished with value: 0.8788159111933395 and parameters: {'n_estimators': 123, 'max_depth': 10, 'min_samples_leaf': 10}. Best is trial 6 with value: 0.977655341291705.\n",
      "C:\\Users\\mazur\\AppData\\Local\\Temp\\ipykernel_34312\\2887328027.py:3: FutureWarning:\n",
      "\n",
      "suggest_int() got {'step'} as positional arguments but they were expected to be given as keyword arguments.\n",
      "\n",
      "C:\\Users\\mazur\\AppData\\Local\\Temp\\ipykernel_34312\\2887328027.py:4: FutureWarning:\n",
      "\n",
      "suggest_int() got {'step'} as positional arguments but they were expected to be given as keyword arguments.\n",
      "\n",
      "C:\\Users\\mazur\\AppData\\Local\\Temp\\ipykernel_34312\\2887328027.py:5: FutureWarning:\n",
      "\n",
      "suggest_int() got {'step'} as positional arguments but they were expected to be given as keyword arguments.\n",
      "\n",
      "[I 2024-04-17 21:23:42,576] Trial 8 finished with value: 0.9343110296364192 and parameters: {'n_estimators': 199, 'max_depth': 25, 'min_samples_leaf': 6}. Best is trial 6 with value: 0.977655341291705.\n",
      "C:\\Users\\mazur\\AppData\\Local\\Temp\\ipykernel_34312\\2887328027.py:3: FutureWarning:\n",
      "\n",
      "suggest_int() got {'step'} as positional arguments but they were expected to be given as keyword arguments.\n",
      "\n",
      "C:\\Users\\mazur\\AppData\\Local\\Temp\\ipykernel_34312\\2887328027.py:4: FutureWarning:\n",
      "\n",
      "suggest_int() got {'step'} as positional arguments but they were expected to be given as keyword arguments.\n",
      "\n",
      "C:\\Users\\mazur\\AppData\\Local\\Temp\\ipykernel_34312\\2887328027.py:5: FutureWarning:\n",
      "\n",
      "suggest_int() got {'step'} as positional arguments but they were expected to be given as keyword arguments.\n",
      "\n",
      "[I 2024-04-17 21:23:43,829] Trial 9 finished with value: 0.9774114774114774 and parameters: {'n_estimators': 144, 'max_depth': 14, 'min_samples_leaf': 2}. Best is trial 6 with value: 0.977655341291705.\n",
      "C:\\Users\\mazur\\AppData\\Local\\Temp\\ipykernel_34312\\2887328027.py:3: FutureWarning:\n",
      "\n",
      "suggest_int() got {'step'} as positional arguments but they were expected to be given as keyword arguments.\n",
      "\n",
      "C:\\Users\\mazur\\AppData\\Local\\Temp\\ipykernel_34312\\2887328027.py:4: FutureWarning:\n",
      "\n",
      "suggest_int() got {'step'} as positional arguments but they were expected to be given as keyword arguments.\n",
      "\n",
      "C:\\Users\\mazur\\AppData\\Local\\Temp\\ipykernel_34312\\2887328027.py:5: FutureWarning:\n",
      "\n",
      "suggest_int() got {'step'} as positional arguments but they were expected to be given as keyword arguments.\n",
      "\n",
      "[I 2024-04-17 21:23:44,803] Trial 10 finished with value: 0.9908144519289651 and parameters: {'n_estimators': 100, 'max_depth': 30, 'min_samples_leaf': 2}. Best is trial 10 with value: 0.9908144519289651.\n",
      "C:\\Users\\mazur\\AppData\\Local\\Temp\\ipykernel_34312\\2887328027.py:3: FutureWarning:\n",
      "\n",
      "suggest_int() got {'step'} as positional arguments but they were expected to be given as keyword arguments.\n",
      "\n",
      "C:\\Users\\mazur\\AppData\\Local\\Temp\\ipykernel_34312\\2887328027.py:4: FutureWarning:\n",
      "\n",
      "suggest_int() got {'step'} as positional arguments but they were expected to be given as keyword arguments.\n",
      "\n",
      "C:\\Users\\mazur\\AppData\\Local\\Temp\\ipykernel_34312\\2887328027.py:5: FutureWarning:\n",
      "\n",
      "suggest_int() got {'step'} as positional arguments but they were expected to be given as keyword arguments.\n",
      "\n",
      "[I 2024-04-17 21:23:45,803] Trial 11 finished with value: 0.9908144519289651 and parameters: {'n_estimators': 101, 'max_depth': 30, 'min_samples_leaf': 2}. Best is trial 10 with value: 0.9908144519289651.\n",
      "C:\\Users\\mazur\\AppData\\Local\\Temp\\ipykernel_34312\\2887328027.py:3: FutureWarning:\n",
      "\n",
      "suggest_int() got {'step'} as positional arguments but they were expected to be given as keyword arguments.\n",
      "\n",
      "C:\\Users\\mazur\\AppData\\Local\\Temp\\ipykernel_34312\\2887328027.py:4: FutureWarning:\n",
      "\n",
      "suggest_int() got {'step'} as positional arguments but they were expected to be given as keyword arguments.\n",
      "\n",
      "C:\\Users\\mazur\\AppData\\Local\\Temp\\ipykernel_34312\\2887328027.py:5: FutureWarning:\n",
      "\n",
      "suggest_int() got {'step'} as positional arguments but they were expected to be given as keyword arguments.\n",
      "\n",
      "[I 2024-04-17 21:23:46,695] Trial 12 finished with value: 0.9587029672682778 and parameters: {'n_estimators': 104, 'max_depth': 27, 'min_samples_leaf': 4}. Best is trial 10 with value: 0.9908144519289651.\n",
      "C:\\Users\\mazur\\AppData\\Local\\Temp\\ipykernel_34312\\2887328027.py:3: FutureWarning:\n",
      "\n",
      "suggest_int() got {'step'} as positional arguments but they were expected to be given as keyword arguments.\n",
      "\n",
      "C:\\Users\\mazur\\AppData\\Local\\Temp\\ipykernel_34312\\2887328027.py:4: FutureWarning:\n",
      "\n",
      "suggest_int() got {'step'} as positional arguments but they were expected to be given as keyword arguments.\n",
      "\n",
      "C:\\Users\\mazur\\AppData\\Local\\Temp\\ipykernel_34312\\2887328027.py:5: FutureWarning:\n",
      "\n",
      "suggest_int() got {'step'} as positional arguments but they were expected to be given as keyword arguments.\n",
      "\n",
      "[I 2024-04-17 21:23:47,920] Trial 13 finished with value: 0.9914163090128756 and parameters: {'n_estimators': 128, 'max_depth': 30, 'min_samples_leaf': 2}. Best is trial 13 with value: 0.9914163090128756.\n",
      "C:\\Users\\mazur\\AppData\\Local\\Temp\\ipykernel_34312\\2887328027.py:3: FutureWarning:\n",
      "\n",
      "suggest_int() got {'step'} as positional arguments but they were expected to be given as keyword arguments.\n",
      "\n",
      "C:\\Users\\mazur\\AppData\\Local\\Temp\\ipykernel_34312\\2887328027.py:4: FutureWarning:\n",
      "\n",
      "suggest_int() got {'step'} as positional arguments but they were expected to be given as keyword arguments.\n",
      "\n",
      "C:\\Users\\mazur\\AppData\\Local\\Temp\\ipykernel_34312\\2887328027.py:5: FutureWarning:\n",
      "\n",
      "suggest_int() got {'step'} as positional arguments but they were expected to be given as keyword arguments.\n",
      "\n",
      "[I 2024-04-17 21:23:49,109] Trial 14 finished with value: 0.9584605986560782 and parameters: {'n_estimators': 129, 'max_depth': 23, 'min_samples_leaf': 4}. Best is trial 13 with value: 0.9914163090128756.\n",
      "C:\\Users\\mazur\\AppData\\Local\\Temp\\ipykernel_34312\\2887328027.py:3: FutureWarning:\n",
      "\n",
      "suggest_int() got {'step'} as positional arguments but they were expected to be given as keyword arguments.\n",
      "\n",
      "C:\\Users\\mazur\\AppData\\Local\\Temp\\ipykernel_34312\\2887328027.py:4: FutureWarning:\n",
      "\n",
      "suggest_int() got {'step'} as positional arguments but they were expected to be given as keyword arguments.\n",
      "\n",
      "C:\\Users\\mazur\\AppData\\Local\\Temp\\ipykernel_34312\\2887328027.py:5: FutureWarning:\n",
      "\n",
      "suggest_int() got {'step'} as positional arguments but they were expected to be given as keyword arguments.\n",
      "\n",
      "[I 2024-04-17 21:23:50,433] Trial 15 finished with value: 0.9568147013782542 and parameters: {'n_estimators': 156, 'max_depth': 26, 'min_samples_leaf': 4}. Best is trial 13 with value: 0.9914163090128756.\n",
      "C:\\Users\\mazur\\AppData\\Local\\Temp\\ipykernel_34312\\2887328027.py:3: FutureWarning:\n",
      "\n",
      "suggest_int() got {'step'} as positional arguments but they were expected to be given as keyword arguments.\n",
      "\n",
      "C:\\Users\\mazur\\AppData\\Local\\Temp\\ipykernel_34312\\2887328027.py:4: FutureWarning:\n",
      "\n",
      "suggest_int() got {'step'} as positional arguments but they were expected to be given as keyword arguments.\n",
      "\n",
      "C:\\Users\\mazur\\AppData\\Local\\Temp\\ipykernel_34312\\2887328027.py:5: FutureWarning:\n",
      "\n",
      "suggest_int() got {'step'} as positional arguments but they were expected to be given as keyword arguments.\n",
      "\n",
      "[I 2024-04-17 21:23:51,621] Trial 16 finished with value: 0.978227537565164 and parameters: {'n_estimators': 130, 'max_depth': 20, 'min_samples_leaf': 3}. Best is trial 13 with value: 0.9914163090128756.\n",
      "C:\\Users\\mazur\\AppData\\Local\\Temp\\ipykernel_34312\\2887328027.py:3: FutureWarning:\n",
      "\n",
      "suggest_int() got {'step'} as positional arguments but they were expected to be given as keyword arguments.\n",
      "\n",
      "C:\\Users\\mazur\\AppData\\Local\\Temp\\ipykernel_34312\\2887328027.py:4: FutureWarning:\n",
      "\n",
      "suggest_int() got {'step'} as positional arguments but they were expected to be given as keyword arguments.\n",
      "\n",
      "C:\\Users\\mazur\\AppData\\Local\\Temp\\ipykernel_34312\\2887328027.py:5: FutureWarning:\n",
      "\n",
      "suggest_int() got {'step'} as positional arguments but they were expected to be given as keyword arguments.\n",
      "\n",
      "[I 2024-04-17 21:23:53,177] Trial 17 finished with value: 0.9920343137254902 and parameters: {'n_estimators': 160, 'max_depth': 23, 'min_samples_leaf': 2}. Best is trial 17 with value: 0.9920343137254902.\n",
      "C:\\Users\\mazur\\AppData\\Local\\Temp\\ipykernel_34312\\2887328027.py:3: FutureWarning:\n",
      "\n",
      "suggest_int() got {'step'} as positional arguments but they were expected to be given as keyword arguments.\n",
      "\n",
      "C:\\Users\\mazur\\AppData\\Local\\Temp\\ipykernel_34312\\2887328027.py:4: FutureWarning:\n",
      "\n",
      "suggest_int() got {'step'} as positional arguments but they were expected to be given as keyword arguments.\n",
      "\n",
      "C:\\Users\\mazur\\AppData\\Local\\Temp\\ipykernel_34312\\2887328027.py:5: FutureWarning:\n",
      "\n",
      "suggest_int() got {'step'} as positional arguments but they were expected to be given as keyword arguments.\n",
      "\n",
      "[I 2024-04-17 21:23:54,506] Trial 18 finished with value: 0.9471432936144211 and parameters: {'n_estimators': 163, 'max_depth': 23, 'min_samples_leaf': 5}. Best is trial 17 with value: 0.9920343137254902.\n",
      "C:\\Users\\mazur\\AppData\\Local\\Temp\\ipykernel_34312\\2887328027.py:3: FutureWarning:\n",
      "\n",
      "suggest_int() got {'step'} as positional arguments but they were expected to be given as keyword arguments.\n",
      "\n",
      "C:\\Users\\mazur\\AppData\\Local\\Temp\\ipykernel_34312\\2887328027.py:4: FutureWarning:\n",
      "\n",
      "suggest_int() got {'step'} as positional arguments but they were expected to be given as keyword arguments.\n",
      "\n",
      "C:\\Users\\mazur\\AppData\\Local\\Temp\\ipykernel_34312\\2887328027.py:5: FutureWarning:\n",
      "\n",
      "suggest_int() got {'step'} as positional arguments but they were expected to be given as keyword arguments.\n",
      "\n",
      "[I 2024-04-17 21:23:56,031] Trial 19 finished with value: 0.9722137404580152 and parameters: {'n_estimators': 171, 'max_depth': 18, 'min_samples_leaf': 3}. Best is trial 17 with value: 0.9920343137254902.\n"
     ]
    },
    {
     "name": "stdout",
     "output_type": "stream",
     "text": [
      "CPU times: total: 16.6 s\n",
      "Wall time: 23.5 s\n"
     ]
    }
   ],
   "source": [
    "%%time\n",
    "# cоздаем объект исследования\n",
    "\n",
    "study = optuna.create_study(study_name=\"RandomForestClassifier\", direction=\"maximize\")\n",
    "# ищем лучшую комбинацию гиперпараметров n_trials раз\n",
    "study.optimize(optuna_rf, n_trials=20)"
   ]
  },
  {
   "cell_type": "code",
   "execution_count": 33,
   "metadata": {},
   "outputs": [
    {
     "name": "stdout",
     "output_type": "stream",
     "text": [
      "Наилучшие значения гиперпараметров {'n_estimators': 160, 'max_depth': 23, 'min_samples_leaf': 2}\n",
      "f1_score на обучающем наборе: 0.99\n"
     ]
    }
   ],
   "source": [
    "# выводим результаты на обучающей выборке\n",
    "print(\"Наилучшие значения гиперпараметров {}\".format(study.best_params))\n",
    "print(\"f1_score на обучающем наборе: {:.2f}\".format(study.best_value))"
   ]
  },
  {
   "cell_type": "code",
   "execution_count": 34,
   "metadata": {},
   "outputs": [
    {
     "name": "stdout",
     "output_type": "stream",
     "text": [
      "accuracy на тестовом наборе: 0.80\n",
      "f1_score на тестовом наборе: 0.82\n"
     ]
    }
   ],
   "source": [
    "# рассчитаем точность для тестовой выборки\n",
    "model = ensemble.RandomForestClassifier(**study.best_params,random_state=random_state, )\n",
    "model.fit(X_train_scaled, y_train)\n",
    "y_train_pred = model.predict(X_train_scaled)\n",
    "print(\"accuracy на тестовом наборе: {:.2f}\".format(model.score(X_test_scaled, y_test)))\n",
    "y_test_pred = model.predict(X_test_scaled)\n",
    "print('f1_score на тестовом наборе: {:.2f}'.format(metrics.f1_score(y_test, y_test_pred)))"
   ]
  },
  {
   "cell_type": "code",
   "execution_count": 35,
   "metadata": {},
   "outputs": [
    {
     "data": {
      "application/vnd.plotly.v1+json": {
       "config": {
        "plotlyServerURL": "https://plot.ly"
       },
       "data": [
        {
         "mode": "markers",
         "name": "f1_score",
         "type": "scatter",
         "x": [
          0,
          1,
          2,
          3,
          4,
          5,
          6,
          7,
          8,
          9,
          10,
          11,
          12,
          13,
          14,
          15,
          16,
          17,
          18,
          19
         ],
         "y": [
          0.9365614465216059,
          0.9372896910370144,
          0.9045871559633027,
          0.9063167531278609,
          0.899969409605384,
          0.9298621745788668,
          0.977655341291705,
          0.8788159111933395,
          0.9343110296364192,
          0.9774114774114774,
          0.9908144519289651,
          0.9908144519289651,
          0.9587029672682778,
          0.9914163090128756,
          0.9584605986560782,
          0.9568147013782542,
          0.978227537565164,
          0.9920343137254902,
          0.9471432936144211,
          0.9722137404580152
         ]
        },
        {
         "mode": "lines",
         "name": "Best Value",
         "type": "scatter",
         "x": [
          0,
          1,
          2,
          3,
          4,
          5,
          6,
          7,
          8,
          9,
          10,
          11,
          12,
          13,
          14,
          15,
          16,
          17,
          18,
          19
         ],
         "y": [
          0.9365614465216059,
          0.9372896910370144,
          0.9372896910370144,
          0.9372896910370144,
          0.9372896910370144,
          0.9372896910370144,
          0.977655341291705,
          0.977655341291705,
          0.977655341291705,
          0.977655341291705,
          0.9908144519289651,
          0.9908144519289651,
          0.9908144519289651,
          0.9914163090128756,
          0.9914163090128756,
          0.9914163090128756,
          0.9914163090128756,
          0.9920343137254902,
          0.9920343137254902,
          0.9920343137254902
         ]
        },
        {
         "marker": {
          "color": "#cccccc"
         },
         "mode": "markers",
         "name": "Infeasible Trial",
         "showlegend": false,
         "type": "scatter",
         "x": [],
         "y": []
        }
       ],
       "layout": {
        "template": {
         "data": {
          "bar": [
           {
            "error_x": {
             "color": "#2a3f5f"
            },
            "error_y": {
             "color": "#2a3f5f"
            },
            "marker": {
             "line": {
              "color": "#E5ECF6",
              "width": 0.5
             },
             "pattern": {
              "fillmode": "overlay",
              "size": 10,
              "solidity": 0.2
             }
            },
            "type": "bar"
           }
          ],
          "barpolar": [
           {
            "marker": {
             "line": {
              "color": "#E5ECF6",
              "width": 0.5
             },
             "pattern": {
              "fillmode": "overlay",
              "size": 10,
              "solidity": 0.2
             }
            },
            "type": "barpolar"
           }
          ],
          "carpet": [
           {
            "aaxis": {
             "endlinecolor": "#2a3f5f",
             "gridcolor": "white",
             "linecolor": "white",
             "minorgridcolor": "white",
             "startlinecolor": "#2a3f5f"
            },
            "baxis": {
             "endlinecolor": "#2a3f5f",
             "gridcolor": "white",
             "linecolor": "white",
             "minorgridcolor": "white",
             "startlinecolor": "#2a3f5f"
            },
            "type": "carpet"
           }
          ],
          "choropleth": [
           {
            "colorbar": {
             "outlinewidth": 0,
             "ticks": ""
            },
            "type": "choropleth"
           }
          ],
          "contour": [
           {
            "colorbar": {
             "outlinewidth": 0,
             "ticks": ""
            },
            "colorscale": [
             [
              0,
              "#0d0887"
             ],
             [
              0.1111111111111111,
              "#46039f"
             ],
             [
              0.2222222222222222,
              "#7201a8"
             ],
             [
              0.3333333333333333,
              "#9c179e"
             ],
             [
              0.4444444444444444,
              "#bd3786"
             ],
             [
              0.5555555555555556,
              "#d8576b"
             ],
             [
              0.6666666666666666,
              "#ed7953"
             ],
             [
              0.7777777777777778,
              "#fb9f3a"
             ],
             [
              0.8888888888888888,
              "#fdca26"
             ],
             [
              1,
              "#f0f921"
             ]
            ],
            "type": "contour"
           }
          ],
          "contourcarpet": [
           {
            "colorbar": {
             "outlinewidth": 0,
             "ticks": ""
            },
            "type": "contourcarpet"
           }
          ],
          "heatmap": [
           {
            "colorbar": {
             "outlinewidth": 0,
             "ticks": ""
            },
            "colorscale": [
             [
              0,
              "#0d0887"
             ],
             [
              0.1111111111111111,
              "#46039f"
             ],
             [
              0.2222222222222222,
              "#7201a8"
             ],
             [
              0.3333333333333333,
              "#9c179e"
             ],
             [
              0.4444444444444444,
              "#bd3786"
             ],
             [
              0.5555555555555556,
              "#d8576b"
             ],
             [
              0.6666666666666666,
              "#ed7953"
             ],
             [
              0.7777777777777778,
              "#fb9f3a"
             ],
             [
              0.8888888888888888,
              "#fdca26"
             ],
             [
              1,
              "#f0f921"
             ]
            ],
            "type": "heatmap"
           }
          ],
          "heatmapgl": [
           {
            "colorbar": {
             "outlinewidth": 0,
             "ticks": ""
            },
            "colorscale": [
             [
              0,
              "#0d0887"
             ],
             [
              0.1111111111111111,
              "#46039f"
             ],
             [
              0.2222222222222222,
              "#7201a8"
             ],
             [
              0.3333333333333333,
              "#9c179e"
             ],
             [
              0.4444444444444444,
              "#bd3786"
             ],
             [
              0.5555555555555556,
              "#d8576b"
             ],
             [
              0.6666666666666666,
              "#ed7953"
             ],
             [
              0.7777777777777778,
              "#fb9f3a"
             ],
             [
              0.8888888888888888,
              "#fdca26"
             ],
             [
              1,
              "#f0f921"
             ]
            ],
            "type": "heatmapgl"
           }
          ],
          "histogram": [
           {
            "marker": {
             "pattern": {
              "fillmode": "overlay",
              "size": 10,
              "solidity": 0.2
             }
            },
            "type": "histogram"
           }
          ],
          "histogram2d": [
           {
            "colorbar": {
             "outlinewidth": 0,
             "ticks": ""
            },
            "colorscale": [
             [
              0,
              "#0d0887"
             ],
             [
              0.1111111111111111,
              "#46039f"
             ],
             [
              0.2222222222222222,
              "#7201a8"
             ],
             [
              0.3333333333333333,
              "#9c179e"
             ],
             [
              0.4444444444444444,
              "#bd3786"
             ],
             [
              0.5555555555555556,
              "#d8576b"
             ],
             [
              0.6666666666666666,
              "#ed7953"
             ],
             [
              0.7777777777777778,
              "#fb9f3a"
             ],
             [
              0.8888888888888888,
              "#fdca26"
             ],
             [
              1,
              "#f0f921"
             ]
            ],
            "type": "histogram2d"
           }
          ],
          "histogram2dcontour": [
           {
            "colorbar": {
             "outlinewidth": 0,
             "ticks": ""
            },
            "colorscale": [
             [
              0,
              "#0d0887"
             ],
             [
              0.1111111111111111,
              "#46039f"
             ],
             [
              0.2222222222222222,
              "#7201a8"
             ],
             [
              0.3333333333333333,
              "#9c179e"
             ],
             [
              0.4444444444444444,
              "#bd3786"
             ],
             [
              0.5555555555555556,
              "#d8576b"
             ],
             [
              0.6666666666666666,
              "#ed7953"
             ],
             [
              0.7777777777777778,
              "#fb9f3a"
             ],
             [
              0.8888888888888888,
              "#fdca26"
             ],
             [
              1,
              "#f0f921"
             ]
            ],
            "type": "histogram2dcontour"
           }
          ],
          "mesh3d": [
           {
            "colorbar": {
             "outlinewidth": 0,
             "ticks": ""
            },
            "type": "mesh3d"
           }
          ],
          "parcoords": [
           {
            "line": {
             "colorbar": {
              "outlinewidth": 0,
              "ticks": ""
             }
            },
            "type": "parcoords"
           }
          ],
          "pie": [
           {
            "automargin": true,
            "type": "pie"
           }
          ],
          "scatter": [
           {
            "fillpattern": {
             "fillmode": "overlay",
             "size": 10,
             "solidity": 0.2
            },
            "type": "scatter"
           }
          ],
          "scatter3d": [
           {
            "line": {
             "colorbar": {
              "outlinewidth": 0,
              "ticks": ""
             }
            },
            "marker": {
             "colorbar": {
              "outlinewidth": 0,
              "ticks": ""
             }
            },
            "type": "scatter3d"
           }
          ],
          "scattercarpet": [
           {
            "marker": {
             "colorbar": {
              "outlinewidth": 0,
              "ticks": ""
             }
            },
            "type": "scattercarpet"
           }
          ],
          "scattergeo": [
           {
            "marker": {
             "colorbar": {
              "outlinewidth": 0,
              "ticks": ""
             }
            },
            "type": "scattergeo"
           }
          ],
          "scattergl": [
           {
            "marker": {
             "colorbar": {
              "outlinewidth": 0,
              "ticks": ""
             }
            },
            "type": "scattergl"
           }
          ],
          "scattermapbox": [
           {
            "marker": {
             "colorbar": {
              "outlinewidth": 0,
              "ticks": ""
             }
            },
            "type": "scattermapbox"
           }
          ],
          "scatterpolar": [
           {
            "marker": {
             "colorbar": {
              "outlinewidth": 0,
              "ticks": ""
             }
            },
            "type": "scatterpolar"
           }
          ],
          "scatterpolargl": [
           {
            "marker": {
             "colorbar": {
              "outlinewidth": 0,
              "ticks": ""
             }
            },
            "type": "scatterpolargl"
           }
          ],
          "scatterternary": [
           {
            "marker": {
             "colorbar": {
              "outlinewidth": 0,
              "ticks": ""
             }
            },
            "type": "scatterternary"
           }
          ],
          "surface": [
           {
            "colorbar": {
             "outlinewidth": 0,
             "ticks": ""
            },
            "colorscale": [
             [
              0,
              "#0d0887"
             ],
             [
              0.1111111111111111,
              "#46039f"
             ],
             [
              0.2222222222222222,
              "#7201a8"
             ],
             [
              0.3333333333333333,
              "#9c179e"
             ],
             [
              0.4444444444444444,
              "#bd3786"
             ],
             [
              0.5555555555555556,
              "#d8576b"
             ],
             [
              0.6666666666666666,
              "#ed7953"
             ],
             [
              0.7777777777777778,
              "#fb9f3a"
             ],
             [
              0.8888888888888888,
              "#fdca26"
             ],
             [
              1,
              "#f0f921"
             ]
            ],
            "type": "surface"
           }
          ],
          "table": [
           {
            "cells": {
             "fill": {
              "color": "#EBF0F8"
             },
             "line": {
              "color": "white"
             }
            },
            "header": {
             "fill": {
              "color": "#C8D4E3"
             },
             "line": {
              "color": "white"
             }
            },
            "type": "table"
           }
          ]
         },
         "layout": {
          "annotationdefaults": {
           "arrowcolor": "#2a3f5f",
           "arrowhead": 0,
           "arrowwidth": 1
          },
          "autotypenumbers": "strict",
          "coloraxis": {
           "colorbar": {
            "outlinewidth": 0,
            "ticks": ""
           }
          },
          "colorscale": {
           "diverging": [
            [
             0,
             "#8e0152"
            ],
            [
             0.1,
             "#c51b7d"
            ],
            [
             0.2,
             "#de77ae"
            ],
            [
             0.3,
             "#f1b6da"
            ],
            [
             0.4,
             "#fde0ef"
            ],
            [
             0.5,
             "#f7f7f7"
            ],
            [
             0.6,
             "#e6f5d0"
            ],
            [
             0.7,
             "#b8e186"
            ],
            [
             0.8,
             "#7fbc41"
            ],
            [
             0.9,
             "#4d9221"
            ],
            [
             1,
             "#276419"
            ]
           ],
           "sequential": [
            [
             0,
             "#0d0887"
            ],
            [
             0.1111111111111111,
             "#46039f"
            ],
            [
             0.2222222222222222,
             "#7201a8"
            ],
            [
             0.3333333333333333,
             "#9c179e"
            ],
            [
             0.4444444444444444,
             "#bd3786"
            ],
            [
             0.5555555555555556,
             "#d8576b"
            ],
            [
             0.6666666666666666,
             "#ed7953"
            ],
            [
             0.7777777777777778,
             "#fb9f3a"
            ],
            [
             0.8888888888888888,
             "#fdca26"
            ],
            [
             1,
             "#f0f921"
            ]
           ],
           "sequentialminus": [
            [
             0,
             "#0d0887"
            ],
            [
             0.1111111111111111,
             "#46039f"
            ],
            [
             0.2222222222222222,
             "#7201a8"
            ],
            [
             0.3333333333333333,
             "#9c179e"
            ],
            [
             0.4444444444444444,
             "#bd3786"
            ],
            [
             0.5555555555555556,
             "#d8576b"
            ],
            [
             0.6666666666666666,
             "#ed7953"
            ],
            [
             0.7777777777777778,
             "#fb9f3a"
            ],
            [
             0.8888888888888888,
             "#fdca26"
            ],
            [
             1,
             "#f0f921"
            ]
           ]
          },
          "colorway": [
           "#636efa",
           "#EF553B",
           "#00cc96",
           "#ab63fa",
           "#FFA15A",
           "#19d3f3",
           "#FF6692",
           "#B6E880",
           "#FF97FF",
           "#FECB52"
          ],
          "font": {
           "color": "#2a3f5f"
          },
          "geo": {
           "bgcolor": "white",
           "lakecolor": "white",
           "landcolor": "#E5ECF6",
           "showlakes": true,
           "showland": true,
           "subunitcolor": "white"
          },
          "hoverlabel": {
           "align": "left"
          },
          "hovermode": "closest",
          "mapbox": {
           "style": "light"
          },
          "paper_bgcolor": "white",
          "plot_bgcolor": "#E5ECF6",
          "polar": {
           "angularaxis": {
            "gridcolor": "white",
            "linecolor": "white",
            "ticks": ""
           },
           "bgcolor": "#E5ECF6",
           "radialaxis": {
            "gridcolor": "white",
            "linecolor": "white",
            "ticks": ""
           }
          },
          "scene": {
           "xaxis": {
            "backgroundcolor": "#E5ECF6",
            "gridcolor": "white",
            "gridwidth": 2,
            "linecolor": "white",
            "showbackground": true,
            "ticks": "",
            "zerolinecolor": "white"
           },
           "yaxis": {
            "backgroundcolor": "#E5ECF6",
            "gridcolor": "white",
            "gridwidth": 2,
            "linecolor": "white",
            "showbackground": true,
            "ticks": "",
            "zerolinecolor": "white"
           },
           "zaxis": {
            "backgroundcolor": "#E5ECF6",
            "gridcolor": "white",
            "gridwidth": 2,
            "linecolor": "white",
            "showbackground": true,
            "ticks": "",
            "zerolinecolor": "white"
           }
          },
          "shapedefaults": {
           "line": {
            "color": "#2a3f5f"
           }
          },
          "ternary": {
           "aaxis": {
            "gridcolor": "white",
            "linecolor": "white",
            "ticks": ""
           },
           "baxis": {
            "gridcolor": "white",
            "linecolor": "white",
            "ticks": ""
           },
           "bgcolor": "#E5ECF6",
           "caxis": {
            "gridcolor": "white",
            "linecolor": "white",
            "ticks": ""
           }
          },
          "title": {
           "x": 0.05
          },
          "xaxis": {
           "automargin": true,
           "gridcolor": "white",
           "linecolor": "white",
           "ticks": "",
           "title": {
            "standoff": 15
           },
           "zerolinecolor": "white",
           "zerolinewidth": 2
          },
          "yaxis": {
           "automargin": true,
           "gridcolor": "white",
           "linecolor": "white",
           "ticks": "",
           "title": {
            "standoff": 15
           },
           "zerolinecolor": "white",
           "zerolinewidth": 2
          }
         }
        },
        "title": {
         "text": "Optimization History Plot"
        },
        "xaxis": {
         "title": {
          "text": "Trial"
         }
        },
        "yaxis": {
         "title": {
          "text": "f1_score"
         }
        }
       }
      }
     },
     "metadata": {},
     "output_type": "display_data"
    }
   ],
   "source": [
    "optuna.visualization.is_available()\n",
    "optuna.visualization.plot_optimization_history(study, target_name=\"f1_score\")"
   ]
  },
  {
   "cell_type": "code",
   "execution_count": 36,
   "metadata": {},
   "outputs": [
    {
     "name": "stderr",
     "output_type": "stream",
     "text": [
      "[I 2024-04-17 21:24:10,921] A new study created in memory with name: no-name-4e1c70b7-57f9-4d43-b02f-71843fe98253\n",
      "[I 2024-04-17 21:24:11,902] Trial 0 finished with value: 0.8219832735961768 and parameters: {'n_estimators': 100, 'min_samples_leaf': 3, 'max_depth': 38}. Best is trial 0 with value: 0.8219832735961768.\n",
      "[I 2024-04-17 21:24:13,403] Trial 1 finished with value: 0.8317535545023697 and parameters: {'n_estimators': 160, 'min_samples_leaf': 3, 'max_depth': 20}. Best is trial 1 with value: 0.8317535545023697.\n",
      "[I 2024-04-17 21:24:15,136] Trial 2 finished with value: 0.8201438848920863 and parameters: {'n_estimators': 210, 'min_samples_leaf': 6, 'max_depth': 26}. Best is trial 1 with value: 0.8317535545023697.\n",
      "[I 2024-04-17 21:24:16,738] Trial 3 finished with value: 0.8284023668639053 and parameters: {'n_estimators': 190, 'min_samples_leaf': 5, 'max_depth': 40}. Best is trial 1 with value: 0.8317535545023697.\n",
      "[I 2024-04-17 21:24:18,373] Trial 4 finished with value: 0.8299643281807372 and parameters: {'n_estimators': 160, 'min_samples_leaf': 3, 'max_depth': 31}. Best is trial 1 with value: 0.8317535545023697.\n",
      "[I 2024-04-17 21:24:20,237] Trial 5 finished with value: 0.8142857142857143 and parameters: {'n_estimators': 230, 'min_samples_leaf': 7, 'max_depth': 16}. Best is trial 1 with value: 0.8317535545023697.\n",
      "[I 2024-04-17 21:24:22,353] Trial 6 finished with value: 0.8246445497630331 and parameters: {'n_estimators': 230, 'min_samples_leaf': 4, 'max_depth': 29}. Best is trial 1 with value: 0.8317535545023697.\n",
      "[I 2024-04-17 21:24:25,155] Trial 7 finished with value: 0.8252080856123662 and parameters: {'n_estimators': 290, 'min_samples_leaf': 3, 'max_depth': 20}. Best is trial 1 with value: 0.8317535545023697.\n",
      "[I 2024-04-17 21:24:26,709] Trial 8 finished with value: 0.8142857142857143 and parameters: {'n_estimators': 180, 'min_samples_leaf': 6, 'max_depth': 15}. Best is trial 1 with value: 0.8317535545023697.\n",
      "[I 2024-04-17 21:24:29,125] Trial 9 finished with value: 0.8274231678486997 and parameters: {'n_estimators': 280, 'min_samples_leaf': 5, 'max_depth': 36}. Best is trial 1 with value: 0.8317535545023697.\n",
      "[I 2024-04-17 21:24:30,269] Trial 10 finished with value: 0.8191616766467066 and parameters: {'n_estimators': 120, 'min_samples_leaf': 4, 'max_depth': 22}. Best is trial 1 with value: 0.8317535545023697.\n",
      "[I 2024-04-17 21:24:31,816] Trial 11 finished with value: 0.8257756563245824 and parameters: {'n_estimators': 150, 'min_samples_leaf': 3, 'max_depth': 32}. Best is trial 1 with value: 0.8317535545023697.\n",
      "[I 2024-04-17 21:24:33,272] Trial 12 finished with value: 0.8261904761904761 and parameters: {'n_estimators': 160, 'min_samples_leaf': 4, 'max_depth': 25}. Best is trial 1 with value: 0.8317535545023697.\n",
      "[I 2024-04-17 21:24:34,526] Trial 13 finished with value: 0.8233890214797136 and parameters: {'n_estimators': 130, 'min_samples_leaf': 3, 'max_depth': 33}. Best is trial 1 with value: 0.8317535545023697.\n",
      "[I 2024-04-17 21:24:35,877] Trial 14 finished with value: 0.8247914183551848 and parameters: {'n_estimators': 150, 'min_samples_leaf': 4, 'max_depth': 21}. Best is trial 1 with value: 0.8317535545023697.\n",
      "[I 2024-04-17 21:24:37,479] Trial 15 finished with value: 0.830952380952381 and parameters: {'n_estimators': 170, 'min_samples_leaf': 3, 'max_depth': 29}. Best is trial 1 with value: 0.8317535545023697.\n",
      "[I 2024-04-17 21:24:39,418] Trial 16 finished with value: 0.8242280285035629 and parameters: {'n_estimators': 220, 'min_samples_leaf': 4, 'max_depth': 25}. Best is trial 1 with value: 0.8317535545023697.\n",
      "[I 2024-04-17 21:24:41,660] Trial 17 finished with value: 0.821301775147929 and parameters: {'n_estimators': 260, 'min_samples_leaf': 5, 'max_depth': 19}. Best is trial 1 with value: 0.8317535545023697.\n",
      "[I 2024-04-17 21:24:43,149] Trial 18 finished with value: 0.8188405797101449 and parameters: {'n_estimators': 180, 'min_samples_leaf': 6, 'max_depth': 29}. Best is trial 1 with value: 0.8317535545023697.\n",
      "[I 2024-04-17 21:24:44,425] Trial 19 finished with value: 0.8261904761904761 and parameters: {'n_estimators': 130, 'min_samples_leaf': 3, 'max_depth': 23}. Best is trial 1 with value: 0.8317535545023697.\n"
     ]
    },
    {
     "name": "stdout",
     "output_type": "stream",
     "text": [
      "Наилучшие значения гиперпараметров: {'n_estimators': 160, 'min_samples_leaf': 3, 'max_depth': 20}\n",
      "f1_score на тестовой выборке: 0.83\n"
     ]
    }
   ],
   "source": [
    "from sklearn.metrics import f1_score\n",
    "\n",
    "def objective(trial):\n",
    "    # Гиперпараметры для оптимизации\n",
    "    n_estimators = trial.suggest_int('n_estimators', 100, 300, step=10)\n",
    "    min_samples_leaf = trial.suggest_int('min_samples_leaf', 3, 7)\n",
    "    max_depth = trial.suggest_int('max_depth', 15, 40)\n",
    "    \n",
    "    # Модель RandomForestClassifier с текущими гиперпараметрами\n",
    "    clf = RandomForestClassifier(n_estimators=n_estimators, min_samples_leaf=min_samples_leaf,\n",
    "                                 max_depth=max_depth, random_state=42)\n",
    "    \n",
    "    # Обучение модели\n",
    "    clf.fit(X_train, y_train)\n",
    "    \n",
    "    # Предсказание на тестовой выборке\n",
    "    y_pred = clf.predict(X_test)\n",
    "    \n",
    "    # Вычисление метрики f1\n",
    "    score = f1_score(y_test, y_pred)\n",
    "    \n",
    "    return score\n",
    "\n",
    "# Создание объекта исследования\n",
    "study = optuna.create_study(direction='maximize')\n",
    "study.optimize(objective, n_trials=20)\n",
    "\n",
    "# Лучшие параметры\n",
    "best_params = study.best_params\n",
    "best_score = study.best_value\n",
    "\n",
    "print(f\"Наилучшие значения гиперпараметров: {best_params}\")\n",
    "print(f\"f1_score на тестовой выборке: {best_score:.2f}\")"
   ]
  },
  {
   "cell_type": "markdown",
   "metadata": {},
   "source": []
  },
  {
   "cell_type": "markdown",
   "metadata": {},
   "source": [
    "# Кросс-валидация\n",
    "Применение кросс-валидации для улучшения моделей"
   ]
  },
  {
   "cell_type": "code",
   "execution_count": 38,
   "metadata": {},
   "outputs": [
    {
     "name": "stdout",
     "output_type": "stream",
     "text": [
      "Средний F1-балл для логистической регрессии (RandomizedSearchCV): 0.78 +/- 0.01\n",
      "Средний F1-балл для случайного леса (RandomizedSearchCV): 0.81 +/- 0.01\n",
      "Средний F1-балл для логистической регрессии (GridSearchCV): 0.77 +/- 0.01\n",
      "Средний F1-балл для случайного леса (GridSearchCV): 0.81 +/- 0.01\n",
      "Средний F1-балл для логистической регрессии (Hyperopt): 0.71 +/- 0.02\n",
      "Средний F1-балл для случайного леса (Hyperopt): 0.81 +/- 0.01\n",
      "Средний F1-балл для логистической регрессии (Optuna): 0.71 +/- 0.02\n",
      "Средний F1-балл для случайного леса (Optuna): 0.81 +/- 0.01\n"
     ]
    }
   ],
   "source": [
    "#Лучшие параметры для логистической регрессии из RandomizedSearchCV\n",
    "best_params_lr_random = {'solver': 'lbfgs', 'penalty': 'l2', 'C': 0.12}\n",
    "# Лучшие параметры для случайного леса из RandomizedSearchCV\n",
    "best_params_rf_random = {'n_estimators': 200, 'min_samples_split': 5, 'min_samples_leaf': 2, 'max_depth': None}\n",
    "# Лучшие параметры для логистической регрессии из GridSearchCV\n",
    "best_params_lr_grid = {'penalty': 'l2', 'solver': 'lbfgs'}\n",
    "# Лучшие параметры для случайного леса из GridSearchCV\n",
    "best_params_rf_grid = {'max_depth': 30, 'min_samples_leaf': 2, 'min_samples_split': 2, 'n_estimators': 200}\n",
    "# Лучшие параметры для логистической регрессии из Hyperopt\n",
    "best_params_lr_hyperopt = {'C': 639.242253433864, 'penalty': 'l1', 'solver': 'liblinear'}\n",
    "# Лучшие параметры для случайного леса из Hyperopt\n",
    "best_params_rf_hyperopt = {'n_estimators': 160, 'max_depth': 23, 'min_samples_leaf': 2}\n",
    "# Лучшие параметры для логистической регрессии из Optuna\n",
    "best_params_lr_optuna = best_params_lr_hyperopt  # Предполагаем, что это те же параметры\n",
    "# Лучшие параметры для случайного леса из Optuna\n",
    "best_params_rf_optuna = best_params_rf_hyperopt  # Предполагаем, что это те же параметры\n",
    "\n",
    "# Создаем модели с лучшими параметрами\n",
    "model_lr_random = linear_model.LogisticRegression(**best_params_lr_random, random_state=42, max_iter=1000)\n",
    "model_rf_random = RandomForestClassifier(**best_params_rf_random, random_state=42)\n",
    "model_lr_grid = linear_model.LogisticRegression(**best_params_lr_grid, random_state=42, max_iter=1000)\n",
    "model_rf_grid = RandomForestClassifier(**best_params_rf_grid, random_state=42)\n",
    "model_lr_hyperopt = linear_model.LogisticRegression(**best_params_lr_hyperopt, random_state=42, max_iter=1000)\n",
    "model_rf_hyperopt = RandomForestClassifier(**best_params_rf_hyperopt, random_state=42)\n",
    "model_lr_optuna = linear_model.LogisticRegression(**best_params_lr_optuna, random_state=42, max_iter=1000)\n",
    "model_rf_optuna = RandomForestClassifier(**best_params_rf_optuna, random_state=42)\n",
    "\n",
    "# Выполняем кросс-валидацию\n",
    "scores_lr_random = cross_val_score(model_lr_random, X_train_scaled, y_train, cv=5, scoring='f1')\n",
    "scores_rf_random = cross_val_score(model_rf_random, X_train_scaled, y_train, cv=5, scoring='f1')\n",
    "scores_lr_grid = cross_val_score(model_lr_grid, X_train_scaled, y_train, cv=5, scoring='f1')\n",
    "scores_rf_grid = cross_val_score(model_rf_grid, X_train_scaled, y_train, cv=5, scoring='f1')\n",
    "scores_lr_hyperopt = cross_val_score(model_lr_hyperopt, X_train_scaled, y_train, cv=5, scoring='f1')\n",
    "scores_rf_hyperopt = cross_val_score(model_rf_hyperopt, X_train_scaled, y_train, cv=5, scoring='f1')\n",
    "scores_lr_optuna = cross_val_score(model_lr_optuna, X_train_scaled, y_train, cv=5, scoring='f1')\n",
    "scores_rf_optuna = cross_val_score(model_rf_optuna, X_train_scaled, y_train, cv=5, scoring='f1')\n",
    "\n",
    "# Выводим результаты\n",
    "print(f'Средний F1-балл для логистической регрессии (RandomizedSearchCV): {np.mean(scores_lr_random):.2f} +/- {np.std(scores_lr_random):.2f}')\n",
    "print(f'Средний F1-балл для случайного леса (RandomizedSearchCV): {np.mean(scores_rf_random):.2f} +/- {np.std(scores_rf_random):.2f}')\n",
    "print(f'Средний F1-балл для логистической регрессии (GridSearchCV): {np.mean(scores_lr_grid):.2f} +/- {np.std(scores_lr_grid):.2f}')\n",
    "print(f'Средний F1-балл для случайного леса (GridSearchCV): {np.mean(scores_rf_grid):.2f} +/- {np.std(scores_rf_grid):.2f}')\n",
    "print(f'Средний F1-балл для логистической регрессии (Hyperopt): {np.mean(scores_lr_hyperopt):.2f} +/- {np.std(scores_lr_hyperopt):.2f}')\n",
    "print(f'Средний F1-балл для случайного леса (Hyperopt): {np.mean(scores_rf_hyperopt):.2f} +/- {np.std(scores_rf_hyperopt):.2f}')\n",
    "print(f'Средний F1-балл для логистической регрессии (Optuna): {np.mean(scores_lr_optuna):.2f} +/- {np.std(scores_lr_optuna):.2f}')\n",
    "print(f'Средний F1-балл для случайного леса (Optuna): {np.mean(scores_rf_optuna):.2f} +/- {np.std(scores_rf_optuna):.2f}')"
   ]
  },
  {
   "cell_type": "markdown",
   "metadata": {},
   "source": [
    "# Выводы\n"
   ]
  },
  {
   "cell_type": "markdown",
   "metadata": {},
   "source": [
    "На основе предоставленных результатов, можно сделать следующие выводы:\n",
    "\n",
    "### Сравнение методов оптимизации:\n",
    "- **RandomizedSearchCV** и **GridSearchCV** показали схожие результаты для обеих моделей, что указывает на их эффективность в поиске хороших гиперпараметров.\n",
    "- **Hyperopt** и **Optuna** показали более низкие результаты для логистической регрессии, но сопоставимые результаты для случайного леса. Это может быть связано с особенностями данных или модели, а также с выбором пространства поиска и количеством итераций.\n",
    "\n",
    "### Логистическая регрессия vs Случайный лес:\n",
    "- Случайный лес показал более высокий средний F1-балл по всем методам оптимизации, что может указывать на его большую подходящесть для данной задачи.\n",
    "- Логистическая регрессия показала более низкий средний F1-балл, особенно при использовании Hyperopt и Optuna, что может свидетельствовать о том, что для данной задачи она менее эффективна или требует более тщательного подбора гиперпараметров.\n",
    "\n",
    "### Общие выводы по проекту:\n",
    "- Важность кросс-валидации: результаты подчеркивают важность использования кросс-валидации для оценки моделей, так как она позволяет получить более надежную оценку производительности модели.\n",
    "- Выбор метода оптимизации: несмотря на то что все методы показали схожие результаты для случайного леса, для логистической регрессии RandomizedSearchCV и GridSearchCV оказались предпочтительнее.\n",
    "- Время выполнения: RandomizedSearchCV и GridSearchCV заняли сопоставимое время, в то время как Hyperopt и Optuna были быстрее, что может быть важным фактором при выборе метода оптимизации в условиях ограниченных ресурсов.\n",
    "\n",
    "В заключение, результаты показывают, что для данного набора данных и задачи случайный лес с оптимизацией гиперпараметров через RandomizedSearchCV или GridSearchCV может быть наиболее эффективным выбором. Однако, стоит учитывать, что выбор модели и метода оптимизации должен основываться на специфике задачи, размере и природе данных, а также на доступных вычислительных ресурсах."
   ]
  }
 ],
 "metadata": {
  "kernelspec": {
   "display_name": "Python 3",
   "language": "python",
   "name": "python3"
  },
  "language_info": {
   "codemirror_mode": {
    "name": "ipython",
    "version": 3
   },
   "file_extension": ".py",
   "mimetype": "text/x-python",
   "name": "python",
   "nbconvert_exporter": "python",
   "pygments_lexer": "ipython3",
   "version": "3.11.1"
  }
 },
 "nbformat": 4,
 "nbformat_minor": 2
}
